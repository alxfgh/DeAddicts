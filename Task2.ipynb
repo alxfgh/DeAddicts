{
  "cells": [
    {
      "cell_type": "markdown",
      "metadata": {
        "id": "x1iKDNgCwVRW"
      },
      "source": [
        "# ML4DD Summer School Hackathon\n",
        "\n",
        "The final days of the Machine Learning For Drug Discovery summer school ends with a hackathon. We will use Polaris as a tool to get the associated benchmarks and datasets. First things first, we will install Polaris from PyPi."
      ]
    },
    {
      "cell_type": "markdown",
      "metadata": {
        "id": "L_IWEa_YxPrp"
      },
      "source": [
        "We next need to authenticate ourselves to Polaris. If you haven't done so yet, you can create an account at https://polarishub.io. Afterwards, you can simply run the command below."
      ]
    },
    {
      "cell_type": "code",
      "execution_count": 1,
      "metadata": {
        "colab": {
          "base_uri": "https://localhost:8080/"
        },
        "id": "_iujt4e23r1M",
        "outputId": "40cae3eb-aee6-4bb3-a2f4-66536de12421"
      },
      "outputs": [
        {
          "name": "stdout",
          "output_type": "stream",
          "text": [
            "You have set \"team13\" as the owner\n"
          ]
        }
      ],
      "source": [
        "# Use the organization owner settings\n",
        "owner = \"team13\"\n",
        "\n",
        "print(f'You have set \"{owner}\" as the owner')"
      ]
    },
    {
      "cell_type": "code",
      "execution_count": 2,
      "metadata": {
        "id": "n3MLaBrY5Wn0"
      },
      "outputs": [
        {
          "name": "stderr",
          "output_type": "stream",
          "text": [
            "/Users/dre/Desktop/GitRepo/DeAddicts/env/lib/python3.11/site-packages/tqdm/auto.py:21: TqdmWarning: IProgress not found. Please update jupyter and ipywidgets. See https://ipywidgets.readthedocs.io/en/stable/user_install.html\n",
            "  from .autonotebook import tqdm as notebook_tqdm\n"
          ]
        }
      ],
      "source": [
        "import polaris as po\n",
        "import datamol as dm\n",
        "import numpy as np\n",
        "import pandas as pd\n",
        "import torch\n",
        "\n",
        "torch.manual_seed(42)\n",
        "np.random.seed(42)"
      ]
    },
    {
      "cell_type": "markdown",
      "metadata": {
        "id": "TO5OAEVFyuqG"
      },
      "source": [
        "# Kinase Selectivity\n",
        "\n",
        "The second benchmark we will use is `polaris/pkis1-kit-wt-mut-c-1`. Using this benchmark is very similar to before, except for one difference: This is a multi-task benchmark."
      ]
    },
    {
      "cell_type": "code",
      "execution_count": 3,
      "metadata": {
        "colab": {
          "base_uri": "https://localhost:8080/"
        },
        "id": "46Y3c1JMIPLh",
        "outputId": "f487c4cd-9eac-48cd-96b4-0e284b03d652"
      },
      "outputs": [
        {
          "name": "stderr",
          "output_type": "stream",
          "text": [
            "\u001b[32m2024-06-20 20:19:22.857\u001b[0m | \u001b[1mINFO    \u001b[0m | \u001b[36mpolaris._artifact\u001b[0m:\u001b[36m_validate_version\u001b[0m:\u001b[36m66\u001b[0m - \u001b[1mThe version of Polaris that was used to create the artifact (0.0.0) is different from the currently installed version of Polaris (dev).\u001b[0m\n",
            "\u001b[32m2024-06-20 20:19:22.868\u001b[0m | \u001b[1mINFO    \u001b[0m | \u001b[36mpolaris._artifact\u001b[0m:\u001b[36m_validate_version\u001b[0m:\u001b[36m66\u001b[0m - \u001b[1mThe version of Polaris that was used to create the artifact (0.0.0) is different from the currently installed version of Polaris (dev).\u001b[0m\n"
          ]
        }
      ],
      "source": [
        "benchmark = po.load_benchmark(\"polaris/pkis1-kit-wt-mut-c-1\")\n",
        "train, test = benchmark.get_train_test_split()"
      ]
    },
    {
      "cell_type": "markdown",
      "metadata": {
        "id": "Pca2oqUVzJ6f"
      },
      "source": [
        "As we can see, the targets are now returned to us as a dictionary. Let's train a multi-task model on this data! We first preprocess the data to be in a format we can use with scikit-learn."
      ]
    },
    {
      "cell_type": "code",
      "execution_count": 4,
      "metadata": {
        "colab": {
          "base_uri": "https://localhost:8080/"
        },
        "id": "MMVcMtmyzh6g",
        "outputId": "9aa916ab-66e5-4903-81fb-d95c24f057ea"
      },
      "outputs": [
        {
          "data": {
            "text/plain": [
              "(277, 3)"
            ]
          },
          "execution_count": 4,
          "metadata": {},
          "output_type": "execute_result"
        }
      ],
      "source": [
        "ys = train.y\n",
        "ys = np.stack([ys[target] for target in benchmark.target_cols], axis=1)\n",
        "ys.shape"
      ]
    },
    {
      "cell_type": "markdown",
      "metadata": {
        "id": "6hCe_IEr0f1q"
      },
      "source": [
        "Now that we're working with a multi-task dataset, it's also possible for these arrays to be sparse. Let's filter out any data points that doesn't have readouts for _all_ targets."
      ]
    },
    {
      "cell_type": "code",
      "execution_count": 5,
      "metadata": {
        "colab": {
          "base_uri": "https://localhost:8080/"
        },
        "id": "Sc6-h6e-0fS0",
        "outputId": "1e8ede36-c85c-48a5-b882-9e4a04c2dc30"
      },
      "outputs": [
        {
          "data": {
            "text/plain": [
              "276"
            ]
          },
          "execution_count": 5,
          "metadata": {},
          "output_type": "execute_result"
        }
      ],
      "source": [
        "mask = ~np.any(np.isnan(ys), axis=1)\n",
        "mask.sum()"
      ]
    },
    {
      "cell_type": "code",
      "execution_count": 6,
      "metadata": {},
      "outputs": [],
      "source": [
        "df_train = pd.DataFrame(train.X[mask])\n",
        "df_train.columns = [\"smiles\"]\n",
        "df_train[benchmark.target_cols] = ys[mask]"
      ]
    },
    {
      "cell_type": "code",
      "execution_count": 7,
      "metadata": {},
      "outputs": [
        {
          "data": {
            "text/html": [
              "<div>\n",
              "<style scoped>\n",
              "    .dataframe tbody tr th:only-of-type {\n",
              "        vertical-align: middle;\n",
              "    }\n",
              "\n",
              "    .dataframe tbody tr th {\n",
              "        vertical-align: top;\n",
              "    }\n",
              "\n",
              "    .dataframe thead th {\n",
              "        text-align: right;\n",
              "    }\n",
              "</style>\n",
              "<table border=\"1\" class=\"dataframe\">\n",
              "  <thead>\n",
              "    <tr style=\"text-align: right;\">\n",
              "      <th></th>\n",
              "      <th>smiles</th>\n",
              "      <th>CLASS_KIT_(T6701_mutant)</th>\n",
              "      <th>CLASS_KIT_(V560G_mutant)</th>\n",
              "      <th>CLASS_KIT</th>\n",
              "    </tr>\n",
              "  </thead>\n",
              "  <tbody>\n",
              "    <tr>\n",
              "      <th>0</th>\n",
              "      <td>O=C(Nc1n[nH]c2cc(-c3ccc(F)cc3)ccc12)C1CC1</td>\n",
              "      <td>0.0</td>\n",
              "      <td>0.0</td>\n",
              "      <td>0.0</td>\n",
              "    </tr>\n",
              "    <tr>\n",
              "      <th>1</th>\n",
              "      <td>CCn1c(-c2nonc2N)nc2c(C#CC(C)(C)O)ncc(OC3CCNCC3...</td>\n",
              "      <td>0.0</td>\n",
              "      <td>0.0</td>\n",
              "      <td>0.0</td>\n",
              "    </tr>\n",
              "    <tr>\n",
              "      <th>2</th>\n",
              "      <td>CN(C)c1cc2c(Nc3ccc4c(cnn4Cc4ccccc4)c3)ncnc2cn1</td>\n",
              "      <td>0.0</td>\n",
              "      <td>0.0</td>\n",
              "      <td>0.0</td>\n",
              "    </tr>\n",
              "    <tr>\n",
              "      <th>3</th>\n",
              "      <td>NS(=O)(=O)c1cccc(-c2ccc3c(NC(=O)C4CC4)n[nH]c3c...</td>\n",
              "      <td>0.0</td>\n",
              "      <td>0.0</td>\n",
              "      <td>0.0</td>\n",
              "    </tr>\n",
              "    <tr>\n",
              "      <th>4</th>\n",
              "      <td>Cc1nn(C)c2cc(N(C)c3ccnc(Nc4cccc(S(N)(=O)=O)c4)...</td>\n",
              "      <td>0.0</td>\n",
              "      <td>0.0</td>\n",
              "      <td>1.0</td>\n",
              "    </tr>\n",
              "  </tbody>\n",
              "</table>\n",
              "</div>"
            ],
            "text/plain": [
              "                                              smiles  \\\n",
              "0          O=C(Nc1n[nH]c2cc(-c3ccc(F)cc3)ccc12)C1CC1   \n",
              "1  CCn1c(-c2nonc2N)nc2c(C#CC(C)(C)O)ncc(OC3CCNCC3...   \n",
              "2     CN(C)c1cc2c(Nc3ccc4c(cnn4Cc4ccccc4)c3)ncnc2cn1   \n",
              "3  NS(=O)(=O)c1cccc(-c2ccc3c(NC(=O)C4CC4)n[nH]c3c...   \n",
              "4  Cc1nn(C)c2cc(N(C)c3ccnc(Nc4cccc(S(N)(=O)=O)c4)...   \n",
              "\n",
              "   CLASS_KIT_(T6701_mutant)  CLASS_KIT_(V560G_mutant)  CLASS_KIT  \n",
              "0                       0.0                       0.0        0.0  \n",
              "1                       0.0                       0.0        0.0  \n",
              "2                       0.0                       0.0        0.0  \n",
              "3                       0.0                       0.0        0.0  \n",
              "4                       0.0                       0.0        1.0  "
            ]
          },
          "execution_count": 7,
          "metadata": {},
          "output_type": "execute_result"
        }
      ],
      "source": [
        "df_train.head()"
      ]
    },
    {
      "cell_type": "markdown",
      "metadata": {},
      "source": [
        "## Add physical features"
      ]
    },
    {
      "cell_type": "code",
      "execution_count": 8,
      "metadata": {},
      "outputs": [],
      "source": [
        "features = [\n",
        "    \"MolecularWeight\",\n",
        "    \"LogP\",\n",
        "    \"MaxAbsPartialCharge\",\n",
        "    \"MinAbsPartialCharge\",\n",
        "]"
      ]
    },
    {
      "cell_type": "code",
      "execution_count": 9,
      "metadata": {},
      "outputs": [],
      "source": [
        "from src.utils import featurize_smiles\n",
        "\n",
        "df_train[features] = df_train[\"smiles\"].apply(lambda x: pd.Series(featurize_smiles(x)))\n"
      ]
    },
    {
      "cell_type": "markdown",
      "metadata": {},
      "source": [
        "# Add fingerprints"
      ]
    },
    {
      "cell_type": "code",
      "execution_count": 10,
      "metadata": {},
      "outputs": [],
      "source": [
        "\n",
        "fp = []\n",
        "for smile in df_train[\"smiles\"]:\n",
        "    fp.append(dm.to_fp(smile))\n",
        "    \n",
        "fp = pd.DataFrame(fp, index=df_train.index)\n",
        "df_train = pd.concat([df_train, fp], axis=1)"
      ]
    },
    {
      "cell_type": "code",
      "execution_count": 11,
      "metadata": {},
      "outputs": [
        {
          "data": {
            "text/html": [
              "<div>\n",
              "<style scoped>\n",
              "    .dataframe tbody tr th:only-of-type {\n",
              "        vertical-align: middle;\n",
              "    }\n",
              "\n",
              "    .dataframe tbody tr th {\n",
              "        vertical-align: top;\n",
              "    }\n",
              "\n",
              "    .dataframe thead th {\n",
              "        text-align: right;\n",
              "    }\n",
              "</style>\n",
              "<table border=\"1\" class=\"dataframe\">\n",
              "  <thead>\n",
              "    <tr style=\"text-align: right;\">\n",
              "      <th></th>\n",
              "      <th>smiles</th>\n",
              "      <th>CLASS_KIT_(T6701_mutant)</th>\n",
              "      <th>CLASS_KIT_(V560G_mutant)</th>\n",
              "      <th>CLASS_KIT</th>\n",
              "      <th>MolecularWeight</th>\n",
              "      <th>LogP</th>\n",
              "      <th>MaxAbsPartialCharge</th>\n",
              "      <th>MinAbsPartialCharge</th>\n",
              "      <th>0</th>\n",
              "      <th>1</th>\n",
              "      <th>...</th>\n",
              "      <th>2038</th>\n",
              "      <th>2039</th>\n",
              "      <th>2040</th>\n",
              "      <th>2041</th>\n",
              "      <th>2042</th>\n",
              "      <th>2043</th>\n",
              "      <th>2044</th>\n",
              "      <th>2045</th>\n",
              "      <th>2046</th>\n",
              "      <th>2047</th>\n",
              "    </tr>\n",
              "  </thead>\n",
              "  <tbody>\n",
              "    <tr>\n",
              "      <th>0</th>\n",
              "      <td>O=C(Nc1n[nH]c2cc(-c3ccc(F)cc3)ccc12)C1CC1</td>\n",
              "      <td>0.0</td>\n",
              "      <td>0.0</td>\n",
              "      <td>0.0</td>\n",
              "      <td>295.317</td>\n",
              "      <td>3.71750</td>\n",
              "      <td>0.308459</td>\n",
              "      <td>0.228201</td>\n",
              "      <td>0</td>\n",
              "      <td>0</td>\n",
              "      <td>...</td>\n",
              "      <td>0</td>\n",
              "      <td>0</td>\n",
              "      <td>0</td>\n",
              "      <td>0</td>\n",
              "      <td>0</td>\n",
              "      <td>0</td>\n",
              "      <td>0</td>\n",
              "      <td>0</td>\n",
              "      <td>0</td>\n",
              "      <td>0</td>\n",
              "    </tr>\n",
              "    <tr>\n",
              "      <th>1</th>\n",
              "      <td>CCn1c(-c2nonc2N)nc2c(C#CC(C)(C)O)ncc(OC3CCNCC3...</td>\n",
              "      <td>0.0</td>\n",
              "      <td>0.0</td>\n",
              "      <td>0.0</td>\n",
              "      <td>411.466</td>\n",
              "      <td>1.33660</td>\n",
              "      <td>0.486426</td>\n",
              "      <td>0.199153</td>\n",
              "      <td>0</td>\n",
              "      <td>0</td>\n",
              "      <td>...</td>\n",
              "      <td>0</td>\n",
              "      <td>0</td>\n",
              "      <td>0</td>\n",
              "      <td>0</td>\n",
              "      <td>0</td>\n",
              "      <td>0</td>\n",
              "      <td>0</td>\n",
              "      <td>0</td>\n",
              "      <td>0</td>\n",
              "      <td>0</td>\n",
              "    </tr>\n",
              "    <tr>\n",
              "      <th>2</th>\n",
              "      <td>CN(C)c1cc2c(Nc3ccc4c(cnn4Cc4ccccc4)c3)ncnc2cn1</td>\n",
              "      <td>0.0</td>\n",
              "      <td>0.0</td>\n",
              "      <td>0.0</td>\n",
              "      <td>395.470</td>\n",
              "      <td>4.23240</td>\n",
              "      <td>0.362725</td>\n",
              "      <td>0.141380</td>\n",
              "      <td>0</td>\n",
              "      <td>0</td>\n",
              "      <td>...</td>\n",
              "      <td>0</td>\n",
              "      <td>0</td>\n",
              "      <td>0</td>\n",
              "      <td>0</td>\n",
              "      <td>0</td>\n",
              "      <td>0</td>\n",
              "      <td>0</td>\n",
              "      <td>0</td>\n",
              "      <td>1</td>\n",
              "      <td>0</td>\n",
              "    </tr>\n",
              "    <tr>\n",
              "      <th>3</th>\n",
              "      <td>NS(=O)(=O)c1cccc(-c2ccc3c(NC(=O)C4CC4)n[nH]c3c...</td>\n",
              "      <td>0.0</td>\n",
              "      <td>0.0</td>\n",
              "      <td>0.0</td>\n",
              "      <td>356.407</td>\n",
              "      <td>2.22580</td>\n",
              "      <td>0.308459</td>\n",
              "      <td>0.237567</td>\n",
              "      <td>0</td>\n",
              "      <td>0</td>\n",
              "      <td>...</td>\n",
              "      <td>0</td>\n",
              "      <td>0</td>\n",
              "      <td>0</td>\n",
              "      <td>0</td>\n",
              "      <td>0</td>\n",
              "      <td>0</td>\n",
              "      <td>0</td>\n",
              "      <td>0</td>\n",
              "      <td>0</td>\n",
              "      <td>0</td>\n",
              "    </tr>\n",
              "    <tr>\n",
              "      <th>4</th>\n",
              "      <td>Cc1nn(C)c2cc(N(C)c3ccnc(Nc4cccc(S(N)(=O)=O)c4)...</td>\n",
              "      <td>0.0</td>\n",
              "      <td>0.0</td>\n",
              "      <td>1.0</td>\n",
              "      <td>423.502</td>\n",
              "      <td>2.83062</td>\n",
              "      <td>0.329238</td>\n",
              "      <td>0.237623</td>\n",
              "      <td>0</td>\n",
              "      <td>0</td>\n",
              "      <td>...</td>\n",
              "      <td>0</td>\n",
              "      <td>0</td>\n",
              "      <td>0</td>\n",
              "      <td>0</td>\n",
              "      <td>0</td>\n",
              "      <td>0</td>\n",
              "      <td>0</td>\n",
              "      <td>0</td>\n",
              "      <td>0</td>\n",
              "      <td>0</td>\n",
              "    </tr>\n",
              "  </tbody>\n",
              "</table>\n",
              "<p>5 rows × 2056 columns</p>\n",
              "</div>"
            ],
            "text/plain": [
              "                                              smiles  \\\n",
              "0          O=C(Nc1n[nH]c2cc(-c3ccc(F)cc3)ccc12)C1CC1   \n",
              "1  CCn1c(-c2nonc2N)nc2c(C#CC(C)(C)O)ncc(OC3CCNCC3...   \n",
              "2     CN(C)c1cc2c(Nc3ccc4c(cnn4Cc4ccccc4)c3)ncnc2cn1   \n",
              "3  NS(=O)(=O)c1cccc(-c2ccc3c(NC(=O)C4CC4)n[nH]c3c...   \n",
              "4  Cc1nn(C)c2cc(N(C)c3ccnc(Nc4cccc(S(N)(=O)=O)c4)...   \n",
              "\n",
              "   CLASS_KIT_(T6701_mutant)  CLASS_KIT_(V560G_mutant)  CLASS_KIT  \\\n",
              "0                       0.0                       0.0        0.0   \n",
              "1                       0.0                       0.0        0.0   \n",
              "2                       0.0                       0.0        0.0   \n",
              "3                       0.0                       0.0        0.0   \n",
              "4                       0.0                       0.0        1.0   \n",
              "\n",
              "   MolecularWeight     LogP  MaxAbsPartialCharge  MinAbsPartialCharge  0  1  \\\n",
              "0          295.317  3.71750             0.308459             0.228201  0  0   \n",
              "1          411.466  1.33660             0.486426             0.199153  0  0   \n",
              "2          395.470  4.23240             0.362725             0.141380  0  0   \n",
              "3          356.407  2.22580             0.308459             0.237567  0  0   \n",
              "4          423.502  2.83062             0.329238             0.237623  0  0   \n",
              "\n",
              "   ...  2038  2039  2040  2041  2042  2043  2044  2045  2046  2047  \n",
              "0  ...     0     0     0     0     0     0     0     0     0     0  \n",
              "1  ...     0     0     0     0     0     0     0     0     0     0  \n",
              "2  ...     0     0     0     0     0     0     0     0     1     0  \n",
              "3  ...     0     0     0     0     0     0     0     0     0     0  \n",
              "4  ...     0     0     0     0     0     0     0     0     0     0  \n",
              "\n",
              "[5 rows x 2056 columns]"
            ]
          },
          "execution_count": 11,
          "metadata": {},
          "output_type": "execute_result"
        }
      ],
      "source": [
        "df_train.head()"
      ]
    },
    {
      "cell_type": "code",
      "execution_count": 12,
      "metadata": {},
      "outputs": [
        {
          "name": "stdout",
          "output_type": "stream",
          "text": [
            "X shape: (276, 2052)\n",
            "y shape: (276, 3)\n"
          ]
        }
      ],
      "source": [
        "X = df_train.drop(columns=[\"smiles\"] + benchmark.target_cols).values\n",
        "y = df_train[benchmark.target_cols].values\n",
        "\n",
        "print(\"X shape:\", X.shape)\n",
        "print(\"y shape:\", y.shape)"
      ]
    },
    {
      "cell_type": "markdown",
      "metadata": {},
      "source": [
        "Do the same featurization on the test set."
      ]
    },
    {
      "cell_type": "code",
      "execution_count": 13,
      "metadata": {},
      "outputs": [],
      "source": [
        "df_test = pd.DataFrame(test.X)\n",
        "df_test.columns = [\"smiles\"]\n",
        "\n",
        "df_test[features] = df_test[\"smiles\"].apply(lambda x: pd.Series(featurize_smiles(x)))\n",
        "\n",
        "fp = []\n",
        "for smile in df_test[\"smiles\"]:\n",
        "    fp.append(dm.to_fp(smile))\n",
        "\n",
        "fp = pd.DataFrame(fp, index=df_test.index)\n",
        "df_test = pd.concat([df_test, fp], axis=1)\n",
        "\n",
        "X_test = df_test.drop(columns=[\"smiles\"]).values"
      ]
    },
    {
      "cell_type": "markdown",
      "metadata": {},
      "source": [
        "# Baseline with Random Forest"
      ]
    },
    {
      "cell_type": "code",
      "execution_count": 14,
      "metadata": {},
      "outputs": [],
      "source": [
        "from sklearn.ensemble import RandomForestClassifier"
      ]
    },
    {
      "cell_type": "code",
      "execution_count": 15,
      "metadata": {},
      "outputs": [],
      "source": [
        "# Construct a random forest regressor for each target\n",
        "models = {\n",
        "    target: RandomForestClassifier(max_depth=5) for target in benchmark.target_cols\n",
        "}\n",
        "\n",
        "# Train the models\n",
        "for target in benchmark.target_cols:\n",
        "    models[target].fit(X, y[:, benchmark.target_cols.index(target)])"
      ]
    },
    {
      "cell_type": "markdown",
      "metadata": {},
      "source": [
        "## Predictions"
      ]
    },
    {
      "cell_type": "code",
      "execution_count": 16,
      "metadata": {},
      "outputs": [],
      "source": [
        "# Predict the test set\n",
        "y_prob_rf = {\n",
        "    target: model.predict_proba(X_test)[:, 1] for target, model in models.items()\n",
        "}\n",
        "y_pred_rf = {target: model.predict(X_test) for target, model in models.items()}"
      ]
    },
    {
      "cell_type": "code",
      "execution_count": 17,
      "metadata": {},
      "outputs": [
        {
          "data": {
            "text/html": [
              "<table border=\"1\"><tr><th>name</th><td>None</td></tr><tr><th>description</th><td></td></tr><tr><th>tags</th><td></td></tr><tr><th>user_attributes</th><td></td></tr><tr><th>owner</th><td>None</td></tr><tr><th>polaris_version</th><td>dev</td></tr><tr><th>benchmark_name</th><td>pkis1-kit-wt-mut-c-1</td></tr><tr><th>benchmark_owner</th><td><table border=\"1\"><tr><th>slug</th><td>polaris</td></tr><tr><th>external_id</th><td>org_2gtoaJIVrgRqiIR8Qm5BnpFCbxu</td></tr><tr><th>type</th><td>organization</td></tr></table></td></tr><tr><th>github_url</th><td>None</td></tr><tr><th>paper_url</th><td>None</td></tr><tr><th>contributors</th><td>None</td></tr><tr><th>artifact_id</th><td>None</td></tr><tr><th>benchmark_artifact_id</th><td>polaris/pkis1-kit-wt-mut-c-1</td></tr><tr><th>results</th><td><table border=\"1\"><thead><tr><th>Test set</th><th>Target label</th><th>Metric</th><th>Score</th></tr></thead><tbody><tr><td>test</td><td>CLASS_KIT_(T6701_mutant)</td><td>accuracy</td><td>0.8390804598</td></tr><tr><td>test</td><td>CLASS_KIT_(V560G_mutant)</td><td>accuracy</td><td>0.8620689655</td></tr><tr><td>test</td><td>CLASS_KIT</td><td>accuracy</td><td>0.6206896552</td></tr><tr><td>test</td><td>CLASS_KIT_(T6701_mutant)</td><td>f1</td><td>0.0</td></tr><tr><td>test</td><td>CLASS_KIT_(V560G_mutant)</td><td>f1</td><td>0.0</td></tr><tr><td>test</td><td>CLASS_KIT</td><td>f1</td><td>0.0</td></tr><tr><td>test</td><td>CLASS_KIT_(T6701_mutant)</td><td>roc_auc</td><td>0.668297456</td></tr><tr><td>test</td><td>CLASS_KIT_(V560G_mutant)</td><td>roc_auc</td><td>0.7172222222</td></tr><tr><td>test</td><td>CLASS_KIT</td><td>roc_auc</td><td>0.8159371493</td></tr><tr><td>test</td><td>CLASS_KIT_(T6701_mutant)</td><td>pr_auc</td><td>0.6049975606</td></tr><tr><td>test</td><td>CLASS_KIT_(V560G_mutant)</td><td>pr_auc</td><td>0.5444855267</td></tr><tr><td>test</td><td>CLASS_KIT</td><td>pr_auc</td><td>0.6839259998</td></tr><tr><td>test</td><td>CLASS_KIT_(T6701_mutant)</td><td>mcc</td><td>0.0</td></tr><tr><td>test</td><td>CLASS_KIT_(V560G_mutant)</td><td>mcc</td><td>0.0</td></tr><tr><td>test</td><td>CLASS_KIT</td><td>mcc</td><td>0.0</td></tr><tr><td>test</td><td>CLASS_KIT_(T6701_mutant)</td><td>cohen_kappa</td><td>0.0</td></tr><tr><td>test</td><td>CLASS_KIT_(V560G_mutant)</td><td>cohen_kappa</td><td>0.0</td></tr><tr><td>test</td><td>CLASS_KIT</td><td>cohen_kappa</td><td>0.0</td></tr></tbody></table></td></tr></table>"
            ],
            "text/plain": [
              "{\n",
              "  \"name\": null,\n",
              "  \"description\": \"\",\n",
              "  \"tags\": [],\n",
              "  \"user_attributes\": {},\n",
              "  \"owner\": null,\n",
              "  \"polaris_version\": \"dev\",\n",
              "  \"benchmark_name\": \"pkis1-kit-wt-mut-c-1\",\n",
              "  \"benchmark_owner\": {\n",
              "    \"slug\": \"polaris\",\n",
              "    \"external_id\": \"org_2gtoaJIVrgRqiIR8Qm5BnpFCbxu\",\n",
              "    \"type\": \"organization\"\n",
              "  },\n",
              "  \"github_url\": null,\n",
              "  \"paper_url\": null,\n",
              "  \"contributors\": null,\n",
              "  \"artifact_id\": null,\n",
              "  \"benchmark_artifact_id\": \"polaris/pkis1-kit-wt-mut-c-1\",\n",
              "  \"results\": [\n",
              "    {\n",
              "      \"Test set\": \"test\",\n",
              "      \"Target label\": \"CLASS_KIT_(T6701_mutant)\",\n",
              "      \"Metric\": \"accuracy\",\n",
              "      \"Score\": 0.8390804598\n",
              "    },\n",
              "    {\n",
              "      \"Test set\": \"test\",\n",
              "      \"Target label\": \"CLASS_KIT_(V560G_mutant)\",\n",
              "      \"Metric\": \"accuracy\",\n",
              "      \"Score\": 0.8620689655\n",
              "    },\n",
              "    {\n",
              "      \"Test set\": \"test\",\n",
              "      \"Target label\": \"CLASS_KIT\",\n",
              "      \"Metric\": \"accuracy\",\n",
              "      \"Score\": 0.6206896552\n",
              "    },\n",
              "    {\n",
              "      \"Test set\": \"test\",\n",
              "      \"Target label\": \"CLASS_KIT_(T6701_mutant)\",\n",
              "      \"Metric\": \"f1\",\n",
              "      \"Score\": 0.0\n",
              "    },\n",
              "    {\n",
              "      \"Test set\": \"test\",\n",
              "      \"Target label\": \"CLASS_KIT_(V560G_mutant)\",\n",
              "      \"Metric\": \"f1\",\n",
              "      \"Score\": 0.0\n",
              "    },\n",
              "    {\n",
              "      \"Test set\": \"test\",\n",
              "      \"Target label\": \"CLASS_KIT\",\n",
              "      \"Metric\": \"f1\",\n",
              "      \"Score\": 0.0\n",
              "    },\n",
              "    {\n",
              "      \"Test set\": \"test\",\n",
              "      \"Target label\": \"CLASS_KIT_(T6701_mutant)\",\n",
              "      \"Metric\": \"roc_auc\",\n",
              "      \"Score\": 0.668297456\n",
              "    },\n",
              "    {\n",
              "      \"Test set\": \"test\",\n",
              "      \"Target label\": \"CLASS_KIT_(V560G_mutant)\",\n",
              "      \"Metric\": \"roc_auc\",\n",
              "      \"Score\": 0.7172222222\n",
              "    },\n",
              "    {\n",
              "      \"Test set\": \"test\",\n",
              "      \"Target label\": \"CLASS_KIT\",\n",
              "      \"Metric\": \"roc_auc\",\n",
              "      \"Score\": 0.8159371493\n",
              "    },\n",
              "    {\n",
              "      \"Test set\": \"test\",\n",
              "      \"Target label\": \"CLASS_KIT_(T6701_mutant)\",\n",
              "      \"Metric\": \"pr_auc\",\n",
              "      \"Score\": 0.6049975606\n",
              "    },\n",
              "    {\n",
              "      \"Test set\": \"test\",\n",
              "      \"Target label\": \"CLASS_KIT_(V560G_mutant)\",\n",
              "      \"Metric\": \"pr_auc\",\n",
              "      \"Score\": 0.5444855267\n",
              "    },\n",
              "    {\n",
              "      \"Test set\": \"test\",\n",
              "      \"Target label\": \"CLASS_KIT\",\n",
              "      \"Metric\": \"pr_auc\",\n",
              "      \"Score\": 0.6839259998\n",
              "    },\n",
              "    {\n",
              "      \"Test set\": \"test\",\n",
              "      \"Target label\": \"CLASS_KIT_(T6701_mutant)\",\n",
              "      \"Metric\": \"mcc\",\n",
              "      \"Score\": 0.0\n",
              "    },\n",
              "    {\n",
              "      \"Test set\": \"test\",\n",
              "      \"Target label\": \"CLASS_KIT_(V560G_mutant)\",\n",
              "      \"Metric\": \"mcc\",\n",
              "      \"Score\": 0.0\n",
              "    },\n",
              "    {\n",
              "      \"Test set\": \"test\",\n",
              "      \"Target label\": \"CLASS_KIT\",\n",
              "      \"Metric\": \"mcc\",\n",
              "      \"Score\": 0.0\n",
              "    },\n",
              "    {\n",
              "      \"Test set\": \"test\",\n",
              "      \"Target label\": \"CLASS_KIT_(T6701_mutant)\",\n",
              "      \"Metric\": \"cohen_kappa\",\n",
              "      \"Score\": 0.0\n",
              "    },\n",
              "    {\n",
              "      \"Test set\": \"test\",\n",
              "      \"Target label\": \"CLASS_KIT_(V560G_mutant)\",\n",
              "      \"Metric\": \"cohen_kappa\",\n",
              "      \"Score\": 0.0\n",
              "    },\n",
              "    {\n",
              "      \"Test set\": \"test\",\n",
              "      \"Target label\": \"CLASS_KIT\",\n",
              "      \"Metric\": \"cohen_kappa\",\n",
              "      \"Score\": 0.0\n",
              "    }\n",
              "  ]\n",
              "}"
            ]
          },
          "execution_count": 17,
          "metadata": {},
          "output_type": "execute_result"
        }
      ],
      "source": [
        "results = benchmark.evaluate(y_pred=y_pred_rf, y_prob=y_prob_rf)\n",
        "results"
      ]
    },
    {
      "cell_type": "markdown",
      "metadata": {},
      "source": [
        "# Multioutput"
      ]
    },
    {
      "cell_type": "code",
      "execution_count": 18,
      "metadata": {},
      "outputs": [],
      "source": [
        "from sklearn.ensemble import RandomForestClassifier\n",
        "from sklearn.multioutput import MultiOutputClassifier"
      ]
    },
    {
      "cell_type": "code",
      "execution_count": 19,
      "metadata": {},
      "outputs": [],
      "source": [
        "base_model = RandomForestClassifier()\n",
        "model = MultiOutputClassifier(base_model)"
      ]
    },
    {
      "cell_type": "code",
      "execution_count": 20,
      "metadata": {},
      "outputs": [
        {
          "data": {
            "text/html": [
              "<style>#sk-container-id-1 {\n",
              "  /* Definition of color scheme common for light and dark mode */\n",
              "  --sklearn-color-text: black;\n",
              "  --sklearn-color-line: gray;\n",
              "  /* Definition of color scheme for unfitted estimators */\n",
              "  --sklearn-color-unfitted-level-0: #fff5e6;\n",
              "  --sklearn-color-unfitted-level-1: #f6e4d2;\n",
              "  --sklearn-color-unfitted-level-2: #ffe0b3;\n",
              "  --sklearn-color-unfitted-level-3: chocolate;\n",
              "  /* Definition of color scheme for fitted estimators */\n",
              "  --sklearn-color-fitted-level-0: #f0f8ff;\n",
              "  --sklearn-color-fitted-level-1: #d4ebff;\n",
              "  --sklearn-color-fitted-level-2: #b3dbfd;\n",
              "  --sklearn-color-fitted-level-3: cornflowerblue;\n",
              "\n",
              "  /* Specific color for light theme */\n",
              "  --sklearn-color-text-on-default-background: var(--sg-text-color, var(--theme-code-foreground, var(--jp-content-font-color1, black)));\n",
              "  --sklearn-color-background: var(--sg-background-color, var(--theme-background, var(--jp-layout-color0, white)));\n",
              "  --sklearn-color-border-box: var(--sg-text-color, var(--theme-code-foreground, var(--jp-content-font-color1, black)));\n",
              "  --sklearn-color-icon: #696969;\n",
              "\n",
              "  @media (prefers-color-scheme: dark) {\n",
              "    /* Redefinition of color scheme for dark theme */\n",
              "    --sklearn-color-text-on-default-background: var(--sg-text-color, var(--theme-code-foreground, var(--jp-content-font-color1, white)));\n",
              "    --sklearn-color-background: var(--sg-background-color, var(--theme-background, var(--jp-layout-color0, #111)));\n",
              "    --sklearn-color-border-box: var(--sg-text-color, var(--theme-code-foreground, var(--jp-content-font-color1, white)));\n",
              "    --sklearn-color-icon: #878787;\n",
              "  }\n",
              "}\n",
              "\n",
              "#sk-container-id-1 {\n",
              "  color: var(--sklearn-color-text);\n",
              "}\n",
              "\n",
              "#sk-container-id-1 pre {\n",
              "  padding: 0;\n",
              "}\n",
              "\n",
              "#sk-container-id-1 input.sk-hidden--visually {\n",
              "  border: 0;\n",
              "  clip: rect(1px 1px 1px 1px);\n",
              "  clip: rect(1px, 1px, 1px, 1px);\n",
              "  height: 1px;\n",
              "  margin: -1px;\n",
              "  overflow: hidden;\n",
              "  padding: 0;\n",
              "  position: absolute;\n",
              "  width: 1px;\n",
              "}\n",
              "\n",
              "#sk-container-id-1 div.sk-dashed-wrapped {\n",
              "  border: 1px dashed var(--sklearn-color-line);\n",
              "  margin: 0 0.4em 0.5em 0.4em;\n",
              "  box-sizing: border-box;\n",
              "  padding-bottom: 0.4em;\n",
              "  background-color: var(--sklearn-color-background);\n",
              "}\n",
              "\n",
              "#sk-container-id-1 div.sk-container {\n",
              "  /* jupyter's `normalize.less` sets `[hidden] { display: none; }`\n",
              "     but bootstrap.min.css set `[hidden] { display: none !important; }`\n",
              "     so we also need the `!important` here to be able to override the\n",
              "     default hidden behavior on the sphinx rendered scikit-learn.org.\n",
              "     See: https://github.com/scikit-learn/scikit-learn/issues/21755 */\n",
              "  display: inline-block !important;\n",
              "  position: relative;\n",
              "}\n",
              "\n",
              "#sk-container-id-1 div.sk-text-repr-fallback {\n",
              "  display: none;\n",
              "}\n",
              "\n",
              "div.sk-parallel-item,\n",
              "div.sk-serial,\n",
              "div.sk-item {\n",
              "  /* draw centered vertical line to link estimators */\n",
              "  background-image: linear-gradient(var(--sklearn-color-text-on-default-background), var(--sklearn-color-text-on-default-background));\n",
              "  background-size: 2px 100%;\n",
              "  background-repeat: no-repeat;\n",
              "  background-position: center center;\n",
              "}\n",
              "\n",
              "/* Parallel-specific style estimator block */\n",
              "\n",
              "#sk-container-id-1 div.sk-parallel-item::after {\n",
              "  content: \"\";\n",
              "  width: 100%;\n",
              "  border-bottom: 2px solid var(--sklearn-color-text-on-default-background);\n",
              "  flex-grow: 1;\n",
              "}\n",
              "\n",
              "#sk-container-id-1 div.sk-parallel {\n",
              "  display: flex;\n",
              "  align-items: stretch;\n",
              "  justify-content: center;\n",
              "  background-color: var(--sklearn-color-background);\n",
              "  position: relative;\n",
              "}\n",
              "\n",
              "#sk-container-id-1 div.sk-parallel-item {\n",
              "  display: flex;\n",
              "  flex-direction: column;\n",
              "}\n",
              "\n",
              "#sk-container-id-1 div.sk-parallel-item:first-child::after {\n",
              "  align-self: flex-end;\n",
              "  width: 50%;\n",
              "}\n",
              "\n",
              "#sk-container-id-1 div.sk-parallel-item:last-child::after {\n",
              "  align-self: flex-start;\n",
              "  width: 50%;\n",
              "}\n",
              "\n",
              "#sk-container-id-1 div.sk-parallel-item:only-child::after {\n",
              "  width: 0;\n",
              "}\n",
              "\n",
              "/* Serial-specific style estimator block */\n",
              "\n",
              "#sk-container-id-1 div.sk-serial {\n",
              "  display: flex;\n",
              "  flex-direction: column;\n",
              "  align-items: center;\n",
              "  background-color: var(--sklearn-color-background);\n",
              "  padding-right: 1em;\n",
              "  padding-left: 1em;\n",
              "}\n",
              "\n",
              "\n",
              "/* Toggleable style: style used for estimator/Pipeline/ColumnTransformer box that is\n",
              "clickable and can be expanded/collapsed.\n",
              "- Pipeline and ColumnTransformer use this feature and define the default style\n",
              "- Estimators will overwrite some part of the style using the `sk-estimator` class\n",
              "*/\n",
              "\n",
              "/* Pipeline and ColumnTransformer style (default) */\n",
              "\n",
              "#sk-container-id-1 div.sk-toggleable {\n",
              "  /* Default theme specific background. It is overwritten whether we have a\n",
              "  specific estimator or a Pipeline/ColumnTransformer */\n",
              "  background-color: var(--sklearn-color-background);\n",
              "}\n",
              "\n",
              "/* Toggleable label */\n",
              "#sk-container-id-1 label.sk-toggleable__label {\n",
              "  cursor: pointer;\n",
              "  display: block;\n",
              "  width: 100%;\n",
              "  margin-bottom: 0;\n",
              "  padding: 0.5em;\n",
              "  box-sizing: border-box;\n",
              "  text-align: center;\n",
              "}\n",
              "\n",
              "#sk-container-id-1 label.sk-toggleable__label-arrow:before {\n",
              "  /* Arrow on the left of the label */\n",
              "  content: \"▸\";\n",
              "  float: left;\n",
              "  margin-right: 0.25em;\n",
              "  color: var(--sklearn-color-icon);\n",
              "}\n",
              "\n",
              "#sk-container-id-1 label.sk-toggleable__label-arrow:hover:before {\n",
              "  color: var(--sklearn-color-text);\n",
              "}\n",
              "\n",
              "/* Toggleable content - dropdown */\n",
              "\n",
              "#sk-container-id-1 div.sk-toggleable__content {\n",
              "  max-height: 0;\n",
              "  max-width: 0;\n",
              "  overflow: hidden;\n",
              "  text-align: left;\n",
              "  /* unfitted */\n",
              "  background-color: var(--sklearn-color-unfitted-level-0);\n",
              "}\n",
              "\n",
              "#sk-container-id-1 div.sk-toggleable__content.fitted {\n",
              "  /* fitted */\n",
              "  background-color: var(--sklearn-color-fitted-level-0);\n",
              "}\n",
              "\n",
              "#sk-container-id-1 div.sk-toggleable__content pre {\n",
              "  margin: 0.2em;\n",
              "  border-radius: 0.25em;\n",
              "  color: var(--sklearn-color-text);\n",
              "  /* unfitted */\n",
              "  background-color: var(--sklearn-color-unfitted-level-0);\n",
              "}\n",
              "\n",
              "#sk-container-id-1 div.sk-toggleable__content.fitted pre {\n",
              "  /* unfitted */\n",
              "  background-color: var(--sklearn-color-fitted-level-0);\n",
              "}\n",
              "\n",
              "#sk-container-id-1 input.sk-toggleable__control:checked~div.sk-toggleable__content {\n",
              "  /* Expand drop-down */\n",
              "  max-height: 200px;\n",
              "  max-width: 100%;\n",
              "  overflow: auto;\n",
              "}\n",
              "\n",
              "#sk-container-id-1 input.sk-toggleable__control:checked~label.sk-toggleable__label-arrow:before {\n",
              "  content: \"▾\";\n",
              "}\n",
              "\n",
              "/* Pipeline/ColumnTransformer-specific style */\n",
              "\n",
              "#sk-container-id-1 div.sk-label input.sk-toggleable__control:checked~label.sk-toggleable__label {\n",
              "  color: var(--sklearn-color-text);\n",
              "  background-color: var(--sklearn-color-unfitted-level-2);\n",
              "}\n",
              "\n",
              "#sk-container-id-1 div.sk-label.fitted input.sk-toggleable__control:checked~label.sk-toggleable__label {\n",
              "  background-color: var(--sklearn-color-fitted-level-2);\n",
              "}\n",
              "\n",
              "/* Estimator-specific style */\n",
              "\n",
              "/* Colorize estimator box */\n",
              "#sk-container-id-1 div.sk-estimator input.sk-toggleable__control:checked~label.sk-toggleable__label {\n",
              "  /* unfitted */\n",
              "  background-color: var(--sklearn-color-unfitted-level-2);\n",
              "}\n",
              "\n",
              "#sk-container-id-1 div.sk-estimator.fitted input.sk-toggleable__control:checked~label.sk-toggleable__label {\n",
              "  /* fitted */\n",
              "  background-color: var(--sklearn-color-fitted-level-2);\n",
              "}\n",
              "\n",
              "#sk-container-id-1 div.sk-label label.sk-toggleable__label,\n",
              "#sk-container-id-1 div.sk-label label {\n",
              "  /* The background is the default theme color */\n",
              "  color: var(--sklearn-color-text-on-default-background);\n",
              "}\n",
              "\n",
              "/* On hover, darken the color of the background */\n",
              "#sk-container-id-1 div.sk-label:hover label.sk-toggleable__label {\n",
              "  color: var(--sklearn-color-text);\n",
              "  background-color: var(--sklearn-color-unfitted-level-2);\n",
              "}\n",
              "\n",
              "/* Label box, darken color on hover, fitted */\n",
              "#sk-container-id-1 div.sk-label.fitted:hover label.sk-toggleable__label.fitted {\n",
              "  color: var(--sklearn-color-text);\n",
              "  background-color: var(--sklearn-color-fitted-level-2);\n",
              "}\n",
              "\n",
              "/* Estimator label */\n",
              "\n",
              "#sk-container-id-1 div.sk-label label {\n",
              "  font-family: monospace;\n",
              "  font-weight: bold;\n",
              "  display: inline-block;\n",
              "  line-height: 1.2em;\n",
              "}\n",
              "\n",
              "#sk-container-id-1 div.sk-label-container {\n",
              "  text-align: center;\n",
              "}\n",
              "\n",
              "/* Estimator-specific */\n",
              "#sk-container-id-1 div.sk-estimator {\n",
              "  font-family: monospace;\n",
              "  border: 1px dotted var(--sklearn-color-border-box);\n",
              "  border-radius: 0.25em;\n",
              "  box-sizing: border-box;\n",
              "  margin-bottom: 0.5em;\n",
              "  /* unfitted */\n",
              "  background-color: var(--sklearn-color-unfitted-level-0);\n",
              "}\n",
              "\n",
              "#sk-container-id-1 div.sk-estimator.fitted {\n",
              "  /* fitted */\n",
              "  background-color: var(--sklearn-color-fitted-level-0);\n",
              "}\n",
              "\n",
              "/* on hover */\n",
              "#sk-container-id-1 div.sk-estimator:hover {\n",
              "  /* unfitted */\n",
              "  background-color: var(--sklearn-color-unfitted-level-2);\n",
              "}\n",
              "\n",
              "#sk-container-id-1 div.sk-estimator.fitted:hover {\n",
              "  /* fitted */\n",
              "  background-color: var(--sklearn-color-fitted-level-2);\n",
              "}\n",
              "\n",
              "/* Specification for estimator info (e.g. \"i\" and \"?\") */\n",
              "\n",
              "/* Common style for \"i\" and \"?\" */\n",
              "\n",
              ".sk-estimator-doc-link,\n",
              "a:link.sk-estimator-doc-link,\n",
              "a:visited.sk-estimator-doc-link {\n",
              "  float: right;\n",
              "  font-size: smaller;\n",
              "  line-height: 1em;\n",
              "  font-family: monospace;\n",
              "  background-color: var(--sklearn-color-background);\n",
              "  border-radius: 1em;\n",
              "  height: 1em;\n",
              "  width: 1em;\n",
              "  text-decoration: none !important;\n",
              "  margin-left: 1ex;\n",
              "  /* unfitted */\n",
              "  border: var(--sklearn-color-unfitted-level-1) 1pt solid;\n",
              "  color: var(--sklearn-color-unfitted-level-1);\n",
              "}\n",
              "\n",
              ".sk-estimator-doc-link.fitted,\n",
              "a:link.sk-estimator-doc-link.fitted,\n",
              "a:visited.sk-estimator-doc-link.fitted {\n",
              "  /* fitted */\n",
              "  border: var(--sklearn-color-fitted-level-1) 1pt solid;\n",
              "  color: var(--sklearn-color-fitted-level-1);\n",
              "}\n",
              "\n",
              "/* On hover */\n",
              "div.sk-estimator:hover .sk-estimator-doc-link:hover,\n",
              ".sk-estimator-doc-link:hover,\n",
              "div.sk-label-container:hover .sk-estimator-doc-link:hover,\n",
              ".sk-estimator-doc-link:hover {\n",
              "  /* unfitted */\n",
              "  background-color: var(--sklearn-color-unfitted-level-3);\n",
              "  color: var(--sklearn-color-background);\n",
              "  text-decoration: none;\n",
              "}\n",
              "\n",
              "div.sk-estimator.fitted:hover .sk-estimator-doc-link.fitted:hover,\n",
              ".sk-estimator-doc-link.fitted:hover,\n",
              "div.sk-label-container:hover .sk-estimator-doc-link.fitted:hover,\n",
              ".sk-estimator-doc-link.fitted:hover {\n",
              "  /* fitted */\n",
              "  background-color: var(--sklearn-color-fitted-level-3);\n",
              "  color: var(--sklearn-color-background);\n",
              "  text-decoration: none;\n",
              "}\n",
              "\n",
              "/* Span, style for the box shown on hovering the info icon */\n",
              ".sk-estimator-doc-link span {\n",
              "  display: none;\n",
              "  z-index: 9999;\n",
              "  position: relative;\n",
              "  font-weight: normal;\n",
              "  right: .2ex;\n",
              "  padding: .5ex;\n",
              "  margin: .5ex;\n",
              "  width: min-content;\n",
              "  min-width: 20ex;\n",
              "  max-width: 50ex;\n",
              "  color: var(--sklearn-color-text);\n",
              "  box-shadow: 2pt 2pt 4pt #999;\n",
              "  /* unfitted */\n",
              "  background: var(--sklearn-color-unfitted-level-0);\n",
              "  border: .5pt solid var(--sklearn-color-unfitted-level-3);\n",
              "}\n",
              "\n",
              ".sk-estimator-doc-link.fitted span {\n",
              "  /* fitted */\n",
              "  background: var(--sklearn-color-fitted-level-0);\n",
              "  border: var(--sklearn-color-fitted-level-3);\n",
              "}\n",
              "\n",
              ".sk-estimator-doc-link:hover span {\n",
              "  display: block;\n",
              "}\n",
              "\n",
              "/* \"?\"-specific style due to the `<a>` HTML tag */\n",
              "\n",
              "#sk-container-id-1 a.estimator_doc_link {\n",
              "  float: right;\n",
              "  font-size: 1rem;\n",
              "  line-height: 1em;\n",
              "  font-family: monospace;\n",
              "  background-color: var(--sklearn-color-background);\n",
              "  border-radius: 1rem;\n",
              "  height: 1rem;\n",
              "  width: 1rem;\n",
              "  text-decoration: none;\n",
              "  /* unfitted */\n",
              "  color: var(--sklearn-color-unfitted-level-1);\n",
              "  border: var(--sklearn-color-unfitted-level-1) 1pt solid;\n",
              "}\n",
              "\n",
              "#sk-container-id-1 a.estimator_doc_link.fitted {\n",
              "  /* fitted */\n",
              "  border: var(--sklearn-color-fitted-level-1) 1pt solid;\n",
              "  color: var(--sklearn-color-fitted-level-1);\n",
              "}\n",
              "\n",
              "/* On hover */\n",
              "#sk-container-id-1 a.estimator_doc_link:hover {\n",
              "  /* unfitted */\n",
              "  background-color: var(--sklearn-color-unfitted-level-3);\n",
              "  color: var(--sklearn-color-background);\n",
              "  text-decoration: none;\n",
              "}\n",
              "\n",
              "#sk-container-id-1 a.estimator_doc_link.fitted:hover {\n",
              "  /* fitted */\n",
              "  background-color: var(--sklearn-color-fitted-level-3);\n",
              "}\n",
              "</style><div id=\"sk-container-id-1\" class=\"sk-top-container\"><div class=\"sk-text-repr-fallback\"><pre>MultiOutputClassifier(estimator=RandomForestClassifier())</pre><b>In a Jupyter environment, please rerun this cell to show the HTML representation or trust the notebook. <br />On GitHub, the HTML representation is unable to render, please try loading this page with nbviewer.org.</b></div><div class=\"sk-container\" hidden><div class=\"sk-item sk-dashed-wrapped\"><div class=\"sk-label-container\"><div class=\"sk-label fitted sk-toggleable\"><input class=\"sk-toggleable__control sk-hidden--visually\" id=\"sk-estimator-id-1\" type=\"checkbox\" ><label for=\"sk-estimator-id-1\" class=\"sk-toggleable__label fitted sk-toggleable__label-arrow fitted\">&nbsp;&nbsp;MultiOutputClassifier<a class=\"sk-estimator-doc-link fitted\" rel=\"noreferrer\" target=\"_blank\" href=\"https://scikit-learn.org/1.5/modules/generated/sklearn.multioutput.MultiOutputClassifier.html\">?<span>Documentation for MultiOutputClassifier</span></a><span class=\"sk-estimator-doc-link fitted\">i<span>Fitted</span></span></label><div class=\"sk-toggleable__content fitted\"><pre>MultiOutputClassifier(estimator=RandomForestClassifier())</pre></div> </div></div><div class=\"sk-parallel\"><div class=\"sk-parallel-item\"><div class=\"sk-item\"><div class=\"sk-label-container\"><div class=\"sk-label fitted sk-toggleable\"><input class=\"sk-toggleable__control sk-hidden--visually\" id=\"sk-estimator-id-2\" type=\"checkbox\" ><label for=\"sk-estimator-id-2\" class=\"sk-toggleable__label fitted sk-toggleable__label-arrow fitted\">estimator: RandomForestClassifier</label><div class=\"sk-toggleable__content fitted\"><pre>RandomForestClassifier()</pre></div> </div></div><div class=\"sk-serial\"><div class=\"sk-item\"><div class=\"sk-estimator fitted sk-toggleable\"><input class=\"sk-toggleable__control sk-hidden--visually\" id=\"sk-estimator-id-3\" type=\"checkbox\" ><label for=\"sk-estimator-id-3\" class=\"sk-toggleable__label fitted sk-toggleable__label-arrow fitted\">&nbsp;RandomForestClassifier<a class=\"sk-estimator-doc-link fitted\" rel=\"noreferrer\" target=\"_blank\" href=\"https://scikit-learn.org/1.5/modules/generated/sklearn.ensemble.RandomForestClassifier.html\">?<span>Documentation for RandomForestClassifier</span></a></label><div class=\"sk-toggleable__content fitted\"><pre>RandomForestClassifier()</pre></div> </div></div></div></div></div></div></div></div></div>"
            ],
            "text/plain": [
              "MultiOutputClassifier(estimator=RandomForestClassifier())"
            ]
          },
          "execution_count": 20,
          "metadata": {},
          "output_type": "execute_result"
        }
      ],
      "source": [
        "model.fit(X, y)"
      ]
    },
    {
      "cell_type": "markdown",
      "metadata": {},
      "source": [
        "## Predictions"
      ]
    },
    {
      "cell_type": "code",
      "execution_count": 21,
      "metadata": {},
      "outputs": [],
      "source": [
        "# Predict the test set\n",
        "y_pred_mrf = model.predict(X_test)\n",
        "y_prob_mrf = model.predict_proba(X_test)"
      ]
    },
    {
      "cell_type": "code",
      "execution_count": 22,
      "metadata": {},
      "outputs": [],
      "source": [
        "y_pred_mrf = {\n",
        "    target: y_pred_mrf[:, i] for i, target in enumerate(benchmark.target_cols)\n",
        "}\n",
        "y_prob_mrf = {\n",
        "    target: y_prob_mrf[i][:, 1] for i, target in enumerate(benchmark.target_cols)\n",
        "}"
      ]
    },
    {
      "cell_type": "code",
      "execution_count": 23,
      "metadata": {},
      "outputs": [
        {
          "name": "stdout",
          "output_type": "stream",
          "text": [
            "['CLASS_KIT_(T6701_mutant)', 'CLASS_KIT_(V560G_mutant)', 'CLASS_KIT']\n"
          ]
        }
      ],
      "source": [
        "print(benchmark.target_cols)"
      ]
    },
    {
      "cell_type": "code",
      "execution_count": 24,
      "metadata": {},
      "outputs": [
        {
          "name": "stdout",
          "output_type": "stream",
          "text": [
            "Predicted as binders for target 1: 0.0\n",
            "Predicted as binders for target 2: 0.0\n",
            "Predicted as binders for target 3: 2.0\n"
          ]
        }
      ],
      "source": [
        "# Predict for class 1\n",
        "print(\"Predicted as binders for target 1:\", y_pred_mrf[benchmark.target_cols[0]].sum())\n",
        "print(\"Predicted as binders for target 2:\", y_pred_mrf[benchmark.target_cols[1]].sum())\n",
        "print(\"Predicted as binders for target 3:\", y_pred_mrf[benchmark.target_cols[2]].sum())"
      ]
    },
    {
      "cell_type": "code",
      "execution_count": 25,
      "metadata": {},
      "outputs": [
        {
          "data": {
            "text/html": [
              "<table border=\"1\"><tr><th>name</th><td>None</td></tr><tr><th>description</th><td></td></tr><tr><th>tags</th><td></td></tr><tr><th>user_attributes</th><td></td></tr><tr><th>owner</th><td>None</td></tr><tr><th>polaris_version</th><td>dev</td></tr><tr><th>benchmark_name</th><td>pkis1-kit-wt-mut-c-1</td></tr><tr><th>benchmark_owner</th><td><table border=\"1\"><tr><th>slug</th><td>polaris</td></tr><tr><th>external_id</th><td>org_2gtoaJIVrgRqiIR8Qm5BnpFCbxu</td></tr><tr><th>type</th><td>organization</td></tr></table></td></tr><tr><th>github_url</th><td>None</td></tr><tr><th>paper_url</th><td>None</td></tr><tr><th>contributors</th><td>None</td></tr><tr><th>artifact_id</th><td>None</td></tr><tr><th>benchmark_artifact_id</th><td>polaris/pkis1-kit-wt-mut-c-1</td></tr><tr><th>results</th><td><table border=\"1\"><thead><tr><th>Test set</th><th>Target label</th><th>Metric</th><th>Score</th></tr></thead><tbody><tr><td>test</td><td>CLASS_KIT_(T6701_mutant)</td><td>accuracy</td><td>0.8390804598</td></tr><tr><td>test</td><td>CLASS_KIT_(V560G_mutant)</td><td>accuracy</td><td>0.8620689655</td></tr><tr><td>test</td><td>CLASS_KIT</td><td>accuracy</td><td>0.6436781609</td></tr><tr><td>test</td><td>CLASS_KIT_(T6701_mutant)</td><td>f1</td><td>0.0</td></tr><tr><td>test</td><td>CLASS_KIT_(V560G_mutant)</td><td>f1</td><td>0.0</td></tr><tr><td>test</td><td>CLASS_KIT</td><td>f1</td><td>0.1142857143</td></tr><tr><td>test</td><td>CLASS_KIT_(T6701_mutant)</td><td>roc_auc</td><td>0.6863992172</td></tr><tr><td>test</td><td>CLASS_KIT_(V560G_mutant)</td><td>roc_auc</td><td>0.6933333333</td></tr><tr><td>test</td><td>CLASS_KIT</td><td>roc_auc</td><td>0.8010662177</td></tr><tr><td>test</td><td>CLASS_KIT_(T6701_mutant)</td><td>pr_auc</td><td>0.3667219285</td></tr><tr><td>test</td><td>CLASS_KIT_(V560G_mutant)</td><td>pr_auc</td><td>0.4745649745</td></tr><tr><td>test</td><td>CLASS_KIT</td><td>pr_auc</td><td>0.6948023478</td></tr><tr><td>test</td><td>CLASS_KIT_(T6701_mutant)</td><td>mcc</td><td>0.0</td></tr><tr><td>test</td><td>CLASS_KIT_(V560G_mutant)</td><td>mcc</td><td>0.0</td></tr><tr><td>test</td><td>CLASS_KIT</td><td>mcc</td><td>0.1962209821</td></tr><tr><td>test</td><td>CLASS_KIT_(T6701_mutant)</td><td>cohen_kappa</td><td>0.0</td></tr><tr><td>test</td><td>CLASS_KIT_(V560G_mutant)</td><td>cohen_kappa</td><td>0.0</td></tr><tr><td>test</td><td>CLASS_KIT</td><td>cohen_kappa</td><td>0.0741503605</td></tr></tbody></table></td></tr></table>"
            ],
            "text/plain": [
              "{\n",
              "  \"name\": null,\n",
              "  \"description\": \"\",\n",
              "  \"tags\": [],\n",
              "  \"user_attributes\": {},\n",
              "  \"owner\": null,\n",
              "  \"polaris_version\": \"dev\",\n",
              "  \"benchmark_name\": \"pkis1-kit-wt-mut-c-1\",\n",
              "  \"benchmark_owner\": {\n",
              "    \"slug\": \"polaris\",\n",
              "    \"external_id\": \"org_2gtoaJIVrgRqiIR8Qm5BnpFCbxu\",\n",
              "    \"type\": \"organization\"\n",
              "  },\n",
              "  \"github_url\": null,\n",
              "  \"paper_url\": null,\n",
              "  \"contributors\": null,\n",
              "  \"artifact_id\": null,\n",
              "  \"benchmark_artifact_id\": \"polaris/pkis1-kit-wt-mut-c-1\",\n",
              "  \"results\": [\n",
              "    {\n",
              "      \"Test set\": \"test\",\n",
              "      \"Target label\": \"CLASS_KIT_(T6701_mutant)\",\n",
              "      \"Metric\": \"accuracy\",\n",
              "      \"Score\": 0.8390804598\n",
              "    },\n",
              "    {\n",
              "      \"Test set\": \"test\",\n",
              "      \"Target label\": \"CLASS_KIT_(V560G_mutant)\",\n",
              "      \"Metric\": \"accuracy\",\n",
              "      \"Score\": 0.8620689655\n",
              "    },\n",
              "    {\n",
              "      \"Test set\": \"test\",\n",
              "      \"Target label\": \"CLASS_KIT\",\n",
              "      \"Metric\": \"accuracy\",\n",
              "      \"Score\": 0.6436781609\n",
              "    },\n",
              "    {\n",
              "      \"Test set\": \"test\",\n",
              "      \"Target label\": \"CLASS_KIT_(T6701_mutant)\",\n",
              "      \"Metric\": \"f1\",\n",
              "      \"Score\": 0.0\n",
              "    },\n",
              "    {\n",
              "      \"Test set\": \"test\",\n",
              "      \"Target label\": \"CLASS_KIT_(V560G_mutant)\",\n",
              "      \"Metric\": \"f1\",\n",
              "      \"Score\": 0.0\n",
              "    },\n",
              "    {\n",
              "      \"Test set\": \"test\",\n",
              "      \"Target label\": \"CLASS_KIT\",\n",
              "      \"Metric\": \"f1\",\n",
              "      \"Score\": 0.1142857143\n",
              "    },\n",
              "    {\n",
              "      \"Test set\": \"test\",\n",
              "      \"Target label\": \"CLASS_KIT_(T6701_mutant)\",\n",
              "      \"Metric\": \"roc_auc\",\n",
              "      \"Score\": 0.6863992172\n",
              "    },\n",
              "    {\n",
              "      \"Test set\": \"test\",\n",
              "      \"Target label\": \"CLASS_KIT_(V560G_mutant)\",\n",
              "      \"Metric\": \"roc_auc\",\n",
              "      \"Score\": 0.6933333333\n",
              "    },\n",
              "    {\n",
              "      \"Test set\": \"test\",\n",
              "      \"Target label\": \"CLASS_KIT\",\n",
              "      \"Metric\": \"roc_auc\",\n",
              "      \"Score\": 0.8010662177\n",
              "    },\n",
              "    {\n",
              "      \"Test set\": \"test\",\n",
              "      \"Target label\": \"CLASS_KIT_(T6701_mutant)\",\n",
              "      \"Metric\": \"pr_auc\",\n",
              "      \"Score\": 0.3667219285\n",
              "    },\n",
              "    {\n",
              "      \"Test set\": \"test\",\n",
              "      \"Target label\": \"CLASS_KIT_(V560G_mutant)\",\n",
              "      \"Metric\": \"pr_auc\",\n",
              "      \"Score\": 0.4745649745\n",
              "    },\n",
              "    {\n",
              "      \"Test set\": \"test\",\n",
              "      \"Target label\": \"CLASS_KIT\",\n",
              "      \"Metric\": \"pr_auc\",\n",
              "      \"Score\": 0.6948023478\n",
              "    },\n",
              "    {\n",
              "      \"Test set\": \"test\",\n",
              "      \"Target label\": \"CLASS_KIT_(T6701_mutant)\",\n",
              "      \"Metric\": \"mcc\",\n",
              "      \"Score\": 0.0\n",
              "    },\n",
              "    {\n",
              "      \"Test set\": \"test\",\n",
              "      \"Target label\": \"CLASS_KIT_(V560G_mutant)\",\n",
              "      \"Metric\": \"mcc\",\n",
              "      \"Score\": 0.0\n",
              "    },\n",
              "    {\n",
              "      \"Test set\": \"test\",\n",
              "      \"Target label\": \"CLASS_KIT\",\n",
              "      \"Metric\": \"mcc\",\n",
              "      \"Score\": 0.1962209821\n",
              "    },\n",
              "    {\n",
              "      \"Test set\": \"test\",\n",
              "      \"Target label\": \"CLASS_KIT_(T6701_mutant)\",\n",
              "      \"Metric\": \"cohen_kappa\",\n",
              "      \"Score\": 0.0\n",
              "    },\n",
              "    {\n",
              "      \"Test set\": \"test\",\n",
              "      \"Target label\": \"CLASS_KIT_(V560G_mutant)\",\n",
              "      \"Metric\": \"cohen_kappa\",\n",
              "      \"Score\": 0.0\n",
              "    },\n",
              "    {\n",
              "      \"Test set\": \"test\",\n",
              "      \"Target label\": \"CLASS_KIT\",\n",
              "      \"Metric\": \"cohen_kappa\",\n",
              "      \"Score\": 0.0741503605\n",
              "    }\n",
              "  ]\n",
              "}"
            ]
          },
          "execution_count": 25,
          "metadata": {},
          "output_type": "execute_result"
        }
      ],
      "source": [
        "results = benchmark.evaluate(y_pred=y_pred_mrf, y_prob=y_prob_mrf)\n",
        "results"
      ]
    },
    {
      "cell_type": "markdown",
      "metadata": {},
      "source": [
        "# Resampling"
      ]
    },
    {
      "cell_type": "code",
      "execution_count": 26,
      "metadata": {},
      "outputs": [],
      "source": [
        "from imblearn.over_sampling import SMOTE\n",
        "\n",
        "smote = SMOTE()\n",
        "\n",
        "resampled_datasets = {}\n",
        "\n",
        "for target in benchmark.target_cols:\n",
        "    X_resampled, y_resampled = smote.fit_resample(\n",
        "        X, y[:, benchmark.target_cols.index(target)]\n",
        "    )\n",
        "    resampled_datasets[target] = (X_resampled, y_resampled)"
      ]
    },
    {
      "cell_type": "code",
      "execution_count": 27,
      "metadata": {},
      "outputs": [],
      "source": [
        "models = {\n",
        "    target: RandomForestClassifier(max_depth=5, n_estimators=100) for target in benchmark.target_cols\n",
        "}"
      ]
    },
    {
      "cell_type": "code",
      "execution_count": 28,
      "metadata": {},
      "outputs": [],
      "source": [
        "for target in benchmark.target_cols:\n",
        "    models[target].fit(*resampled_datasets[target])"
      ]
    },
    {
      "cell_type": "markdown",
      "metadata": {},
      "source": [
        "## Predictions"
      ]
    },
    {
      "cell_type": "code",
      "execution_count": 29,
      "metadata": {},
      "outputs": [],
      "source": [
        "y_pred_rf_resampled = {\n",
        "    target: model.predict(X_test) for target, model in models.items()\n",
        "}\n",
        "y_prob_rf_resampled = {\n",
        "    target: model.predict_proba(X_test)[:, 1] for target, model in models.items()\n",
        "}"
      ]
    },
    {
      "cell_type": "code",
      "execution_count": 30,
      "metadata": {},
      "outputs": [
        {
          "name": "stdout",
          "output_type": "stream",
          "text": [
            "Predicted as binders for target 1: 6.0\n",
            "Predicted as binders for target 2: 3.0\n",
            "Predicted as binders for target 3: 6.0\n"
          ]
        }
      ],
      "source": [
        "# Predict for class 1\n",
        "print(\n",
        "    \"Predicted as binders for target 1:\",\n",
        "    y_pred_rf_resampled[benchmark.target_cols[0]].sum(),\n",
        ")\n",
        "print(\n",
        "    \"Predicted as binders for target 2:\",\n",
        "    y_pred_rf_resampled[benchmark.target_cols[1]].sum(),\n",
        ")\n",
        "print(\n",
        "    \"Predicted as binders for target 3:\",\n",
        "    y_pred_rf_resampled[benchmark.target_cols[2]].sum(),\n",
        ")"
      ]
    },
    {
      "cell_type": "code",
      "execution_count": 31,
      "metadata": {},
      "outputs": [
        {
          "data": {
            "text/html": [
              "<table border=\"1\"><tr><th>name</th><td>None</td></tr><tr><th>description</th><td></td></tr><tr><th>tags</th><td></td></tr><tr><th>user_attributes</th><td></td></tr><tr><th>owner</th><td>None</td></tr><tr><th>polaris_version</th><td>dev</td></tr><tr><th>benchmark_name</th><td>pkis1-kit-wt-mut-c-1</td></tr><tr><th>benchmark_owner</th><td><table border=\"1\"><tr><th>slug</th><td>polaris</td></tr><tr><th>external_id</th><td>org_2gtoaJIVrgRqiIR8Qm5BnpFCbxu</td></tr><tr><th>type</th><td>organization</td></tr></table></td></tr><tr><th>github_url</th><td>None</td></tr><tr><th>paper_url</th><td>None</td></tr><tr><th>contributors</th><td>None</td></tr><tr><th>artifact_id</th><td>None</td></tr><tr><th>benchmark_artifact_id</th><td>polaris/pkis1-kit-wt-mut-c-1</td></tr><tr><th>results</th><td><table border=\"1\"><thead><tr><th>Test set</th><th>Target label</th><th>Metric</th><th>Score</th></tr></thead><tbody><tr><td>test</td><td>CLASS_KIT_(T6701_mutant)</td><td>accuracy</td><td>0.908045977</td></tr><tr><td>test</td><td>CLASS_KIT_(V560G_mutant)</td><td>accuracy</td><td>0.8735632184</td></tr><tr><td>test</td><td>CLASS_KIT</td><td>accuracy</td><td>0.6436781609</td></tr><tr><td>test</td><td>CLASS_KIT_(T6701_mutant)</td><td>f1</td><td>0.6</td></tr><tr><td>test</td><td>CLASS_KIT_(V560G_mutant)</td><td>f1</td><td>0.2666666667</td></tr><tr><td>test</td><td>CLASS_KIT</td><td>f1</td><td>0.2051282051</td></tr><tr><td>test</td><td>CLASS_KIT_(T6701_mutant)</td><td>roc_auc</td><td>0.7358121331</td></tr><tr><td>test</td><td>CLASS_KIT_(V560G_mutant)</td><td>roc_auc</td><td>0.715</td></tr><tr><td>test</td><td>CLASS_KIT</td><td>roc_auc</td><td>0.7424242424</td></tr><tr><td>test</td><td>CLASS_KIT_(T6701_mutant)</td><td>pr_auc</td><td>0.6685591099</td></tr><tr><td>test</td><td>CLASS_KIT_(V560G_mutant)</td><td>pr_auc</td><td>0.4241572522</td></tr><tr><td>test</td><td>CLASS_KIT</td><td>pr_auc</td><td>0.6287281486</td></tr><tr><td>test</td><td>CLASS_KIT_(T6701_mutant)</td><td>mcc</td><td>0.6214848238</td></tr><tr><td>test</td><td>CLASS_KIT_(V560G_mutant)</td><td>mcc</td><td>0.2897727626</td></tr><tr><td>test</td><td>CLASS_KIT</td><td>mcc</td><td>0.1611830148</td></tr><tr><td>test</td><td>CLASS_KIT_(T6701_mutant)</td><td>cohen_kappa</td><td>0.5572519084</td></tr><tr><td>test</td><td>CLASS_KIT_(V560G_mutant)</td><td>cohen_kappa</td><td>0.2238442822</td></tr><tr><td>test</td><td>CLASS_KIT</td><td>cohen_kappa</td><td>0.1001001001</td></tr></tbody></table></td></tr></table>"
            ],
            "text/plain": [
              "{\n",
              "  \"name\": null,\n",
              "  \"description\": \"\",\n",
              "  \"tags\": [],\n",
              "  \"user_attributes\": {},\n",
              "  \"owner\": null,\n",
              "  \"polaris_version\": \"dev\",\n",
              "  \"benchmark_name\": \"pkis1-kit-wt-mut-c-1\",\n",
              "  \"benchmark_owner\": {\n",
              "    \"slug\": \"polaris\",\n",
              "    \"external_id\": \"org_2gtoaJIVrgRqiIR8Qm5BnpFCbxu\",\n",
              "    \"type\": \"organization\"\n",
              "  },\n",
              "  \"github_url\": null,\n",
              "  \"paper_url\": null,\n",
              "  \"contributors\": null,\n",
              "  \"artifact_id\": null,\n",
              "  \"benchmark_artifact_id\": \"polaris/pkis1-kit-wt-mut-c-1\",\n",
              "  \"results\": [\n",
              "    {\n",
              "      \"Test set\": \"test\",\n",
              "      \"Target label\": \"CLASS_KIT_(T6701_mutant)\",\n",
              "      \"Metric\": \"accuracy\",\n",
              "      \"Score\": 0.908045977\n",
              "    },\n",
              "    {\n",
              "      \"Test set\": \"test\",\n",
              "      \"Target label\": \"CLASS_KIT_(V560G_mutant)\",\n",
              "      \"Metric\": \"accuracy\",\n",
              "      \"Score\": 0.8735632184\n",
              "    },\n",
              "    {\n",
              "      \"Test set\": \"test\",\n",
              "      \"Target label\": \"CLASS_KIT\",\n",
              "      \"Metric\": \"accuracy\",\n",
              "      \"Score\": 0.6436781609\n",
              "    },\n",
              "    {\n",
              "      \"Test set\": \"test\",\n",
              "      \"Target label\": \"CLASS_KIT_(T6701_mutant)\",\n",
              "      \"Metric\": \"f1\",\n",
              "      \"Score\": 0.6\n",
              "    },\n",
              "    {\n",
              "      \"Test set\": \"test\",\n",
              "      \"Target label\": \"CLASS_KIT_(V560G_mutant)\",\n",
              "      \"Metric\": \"f1\",\n",
              "      \"Score\": 0.2666666667\n",
              "    },\n",
              "    {\n",
              "      \"Test set\": \"test\",\n",
              "      \"Target label\": \"CLASS_KIT\",\n",
              "      \"Metric\": \"f1\",\n",
              "      \"Score\": 0.2051282051\n",
              "    },\n",
              "    {\n",
              "      \"Test set\": \"test\",\n",
              "      \"Target label\": \"CLASS_KIT_(T6701_mutant)\",\n",
              "      \"Metric\": \"roc_auc\",\n",
              "      \"Score\": 0.7358121331\n",
              "    },\n",
              "    {\n",
              "      \"Test set\": \"test\",\n",
              "      \"Target label\": \"CLASS_KIT_(V560G_mutant)\",\n",
              "      \"Metric\": \"roc_auc\",\n",
              "      \"Score\": 0.715\n",
              "    },\n",
              "    {\n",
              "      \"Test set\": \"test\",\n",
              "      \"Target label\": \"CLASS_KIT\",\n",
              "      \"Metric\": \"roc_auc\",\n",
              "      \"Score\": 0.7424242424\n",
              "    },\n",
              "    {\n",
              "      \"Test set\": \"test\",\n",
              "      \"Target label\": \"CLASS_KIT_(T6701_mutant)\",\n",
              "      \"Metric\": \"pr_auc\",\n",
              "      \"Score\": 0.6685591099\n",
              "    },\n",
              "    {\n",
              "      \"Test set\": \"test\",\n",
              "      \"Target label\": \"CLASS_KIT_(V560G_mutant)\",\n",
              "      \"Metric\": \"pr_auc\",\n",
              "      \"Score\": 0.4241572522\n",
              "    },\n",
              "    {\n",
              "      \"Test set\": \"test\",\n",
              "      \"Target label\": \"CLASS_KIT\",\n",
              "      \"Metric\": \"pr_auc\",\n",
              "      \"Score\": 0.6287281486\n",
              "    },\n",
              "    {\n",
              "      \"Test set\": \"test\",\n",
              "      \"Target label\": \"CLASS_KIT_(T6701_mutant)\",\n",
              "      \"Metric\": \"mcc\",\n",
              "      \"Score\": 0.6214848238\n",
              "    },\n",
              "    {\n",
              "      \"Test set\": \"test\",\n",
              "      \"Target label\": \"CLASS_KIT_(V560G_mutant)\",\n",
              "      \"Metric\": \"mcc\",\n",
              "      \"Score\": 0.2897727626\n",
              "    },\n",
              "    {\n",
              "      \"Test set\": \"test\",\n",
              "      \"Target label\": \"CLASS_KIT\",\n",
              "      \"Metric\": \"mcc\",\n",
              "      \"Score\": 0.1611830148\n",
              "    },\n",
              "    {\n",
              "      \"Test set\": \"test\",\n",
              "      \"Target label\": \"CLASS_KIT_(T6701_mutant)\",\n",
              "      \"Metric\": \"cohen_kappa\",\n",
              "      \"Score\": 0.5572519084\n",
              "    },\n",
              "    {\n",
              "      \"Test set\": \"test\",\n",
              "      \"Target label\": \"CLASS_KIT_(V560G_mutant)\",\n",
              "      \"Metric\": \"cohen_kappa\",\n",
              "      \"Score\": 0.2238442822\n",
              "    },\n",
              "    {\n",
              "      \"Test set\": \"test\",\n",
              "      \"Target label\": \"CLASS_KIT\",\n",
              "      \"Metric\": \"cohen_kappa\",\n",
              "      \"Score\": 0.1001001001\n",
              "    }\n",
              "  ]\n",
              "}"
            ]
          },
          "execution_count": 31,
          "metadata": {},
          "output_type": "execute_result"
        }
      ],
      "source": [
        "results = benchmark.evaluate(y_pred=y_pred_rf_resampled, y_prob=y_prob_rf_resampled)\n",
        "results"
      ]
    },
    {
      "cell_type": "markdown",
      "metadata": {},
      "source": [
        "# XGBoost with resampling"
      ]
    },
    {
      "cell_type": "code",
      "execution_count": null,
      "metadata": {},
      "outputs": [],
      "source": [
        "from xgboost import XGBClassifier"
      ]
    },
    {
      "cell_type": "code",
      "execution_count": null,
      "metadata": {},
      "outputs": [],
      "source": [
        "models = {\n",
        "    target: XGBClassifier(max_depth=5, n_estimators=100) for target in benchmark.target_cols\n",
        "}"
      ]
    },
    {
      "cell_type": "code",
      "execution_count": null,
      "metadata": {},
      "outputs": [],
      "source": [
        "for target in benchmark.target_cols:\n",
        "    models[target].fit(*resampled_datasets[target])"
      ]
    },
    {
      "cell_type": "markdown",
      "metadata": {},
      "source": [
        "## Predictions"
      ]
    },
    {
      "cell_type": "code",
      "execution_count": null,
      "metadata": {},
      "outputs": [],
      "source": [
        "y_pred_xgb_resampled = {\n",
        "    target: model.predict(X_test) for target, model in models.items()\n",
        "}\n",
        "y_prob_xgb_resampled = {\n",
        "    target: model.predict_proba(X_test)[:, 1] for target, model in models.items()\n",
        "}"
      ]
    },
    {
      "cell_type": "code",
      "execution_count": null,
      "metadata": {},
      "outputs": [],
      "source": [
        "# Predict for class 1\n",
        "print(\n",
        "    \"Predicted as binders for target 1:\",\n",
        "    y_pred_xgb_resampled[benchmark.target_cols[0]].sum(),\n",
        ")\n",
        "print(\n",
        "    \"Predicted as binders for target 2:\",\n",
        "    y_pred_xgb_resampled[benchmark.target_cols[1]].sum(),\n",
        ")\n",
        "print(\n",
        "    \"Predicted as binders for target 3:\",\n",
        "    y_pred_xgb_resampled[benchmark.target_cols[2]].sum(),\n",
        ")"
      ]
    },
    {
      "cell_type": "code",
      "execution_count": null,
      "metadata": {},
      "outputs": [],
      "source": [
        "results = benchmark.evaluate(y_pred=y_pred_xgb_resampled, y_prob=y_prob_xgb_resampled)\n",
        "results"
      ]
    },
    {
      "cell_type": "markdown",
      "metadata": {},
      "source": [
        "# MLP with weighted loss"
      ]
    },
    {
      "cell_type": "code",
      "execution_count": 32,
      "metadata": {},
      "outputs": [],
      "source": [
        "# Define an MLP model, then train it with a loss which is proportional to the class imbalance\n",
        "\n",
        "import torch\n",
        "import torch.nn as nn\n",
        "\n",
        "class MLP(nn.Module):\n",
        "    def __init__(self, input_dim, hidden_layers, output_dim):\n",
        "        super(MLP, self).__init__()\n",
        "        self.layers = nn.ModuleList()\n",
        "        self.layers.append(nn.Linear(input_dim, hidden_layers[0]))\n",
        "        for i in range(1, len(hidden_layers)):\n",
        "            self.layers.append(nn.Linear(hidden_layers[i - 1], hidden_layers[i]))\n",
        "        self.layers.append(nn.Linear(hidden_layers[-1], output_dim))\n",
        "\n",
        "    def forward(self, x):\n",
        "        for layer in self.layers[:-1]:\n",
        "            x = torch.relu(layer(x))\n",
        "        x = self.layers[-1](x)\n",
        "        return x\n",
        "\n",
        "\n",
        "class WeightedBCEWithLogitsLoss(nn.Module):\n",
        "    def __init__(self, pos_weight):\n",
        "        super(WeightedBCEWithLogitsLoss, self).__init__()\n",
        "        self.pos_weight = pos_weight\n",
        "\n",
        "    def forward(self, y_pred, y_true):\n",
        "        criterion = nn.BCEWithLogitsLoss(pos_weight=self.pos_weight)\n",
        "        return criterion(y_pred, y_true)"
      ]
    },
    {
      "cell_type": "code",
      "execution_count": 33,
      "metadata": {},
      "outputs": [],
      "source": [
        "weights = {}\n",
        "\n",
        "for target in benchmark.target_cols:\n",
        "    num_positive = y[:, benchmark.target_cols.index(target)].sum()\n",
        "    num_negative = y.shape[0] - num_positive\n",
        "    pos_weight = num_negative / num_positive\n",
        "    weights[target] = torch.tensor(pos_weight)"
      ]
    },
    {
      "cell_type": "code",
      "execution_count": 34,
      "metadata": {},
      "outputs": [],
      "source": [
        "n_epochs = 30\n",
        "hidden_layers = [[32, 16] for _ in benchmark.target_cols]\n",
        "\n",
        "# Define the model\n",
        "models = {\n",
        "    target: MLP(input_dim=X.shape[1], hidden_layers=hidden_layers[i], output_dim=1)\n",
        "    for i, target in enumerate(benchmark.target_cols)\n",
        "}\n",
        "\n",
        "for target in benchmark.target_cols:\n",
        "    model = models[target]\n",
        "    model.train()\n",
        "    optimizer = torch.optim.Adam(model.parameters(), lr=0.001)\n",
        "    criterion = WeightedBCEWithLogitsLoss(pos_weight=weights[target])\n",
        "\n",
        "    X_t = torch.tensor(X, dtype=torch.float32)\n",
        "    y_t = torch.tensor(y[:, benchmark.target_cols.index(target)], dtype=torch.float32)\n",
        "\n",
        "    for epoch in range(n_epochs):\n",
        "        optimizer.zero_grad()\n",
        "        y_pred = model(X_t).squeeze()\n",
        "        loss = criterion(y_pred, y_t)\n",
        "        loss.backward()\n",
        "        optimizer.step()\n",
        "\n",
        "    model.eval()"
      ]
    },
    {
      "cell_type": "markdown",
      "metadata": {},
      "source": [
        "## Predict"
      ]
    },
    {
      "cell_type": "code",
      "execution_count": 35,
      "metadata": {},
      "outputs": [],
      "source": [
        "# Predict the test set\n",
        "y_prob_mlp = {\n",
        "    target: model(torch.tensor(X_test, dtype=torch.float32)).detach().numpy().squeeze()\n",
        "    for target, model in models.items()\n",
        "}\n",
        "\n",
        "y_pred_mlp = {\n",
        "    target: (y_prob > 0.5).astype(int) for target, y_prob in y_prob_mlp.items()\n",
        "}"
      ]
    },
    {
      "cell_type": "code",
      "execution_count": 36,
      "metadata": {},
      "outputs": [
        {
          "name": "stdout",
          "output_type": "stream",
          "text": [
            "Predicted as binders for target 1: 7\n",
            "Predicted as binders for target 2: 8\n",
            "Predicted as binders for target 3: 18\n"
          ]
        }
      ],
      "source": [
        "print(\"Predicted as binders for target 1:\", y_pred_mlp[benchmark.target_cols[0]].sum())\n",
        "print(\"Predicted as binders for target 2:\", y_pred_mlp[benchmark.target_cols[1]].sum())\n",
        "print(\"Predicted as binders for target 3:\", y_pred_mlp[benchmark.target_cols[2]].sum())"
      ]
    },
    {
      "cell_type": "code",
      "execution_count": 37,
      "metadata": {},
      "outputs": [
        {
          "data": {
            "text/html": [
              "<table border=\"1\"><tr><th>name</th><td>None</td></tr><tr><th>description</th><td></td></tr><tr><th>tags</th><td></td></tr><tr><th>user_attributes</th><td></td></tr><tr><th>owner</th><td>None</td></tr><tr><th>polaris_version</th><td>dev</td></tr><tr><th>benchmark_name</th><td>pkis1-kit-wt-mut-c-1</td></tr><tr><th>benchmark_owner</th><td><table border=\"1\"><tr><th>slug</th><td>polaris</td></tr><tr><th>external_id</th><td>org_2gtoaJIVrgRqiIR8Qm5BnpFCbxu</td></tr><tr><th>type</th><td>organization</td></tr></table></td></tr><tr><th>github_url</th><td>None</td></tr><tr><th>paper_url</th><td>None</td></tr><tr><th>contributors</th><td>None</td></tr><tr><th>artifact_id</th><td>None</td></tr><tr><th>benchmark_artifact_id</th><td>polaris/pkis1-kit-wt-mut-c-1</td></tr><tr><th>results</th><td><table border=\"1\"><thead><tr><th>Test set</th><th>Target label</th><th>Metric</th><th>Score</th></tr></thead><tbody><tr><td>test</td><td>CLASS_KIT_(T6701_mutant)</td><td>accuracy</td><td>0.9195402299</td></tr><tr><td>test</td><td>CLASS_KIT_(V560G_mutant)</td><td>accuracy</td><td>0.8850574713</td></tr><tr><td>test</td><td>CLASS_KIT</td><td>accuracy</td><td>0.7356321839</td></tr><tr><td>test</td><td>CLASS_KIT_(T6701_mutant)</td><td>f1</td><td>0.6666666667</td></tr><tr><td>test</td><td>CLASS_KIT_(V560G_mutant)</td><td>f1</td><td>0.5</td></tr><tr><td>test</td><td>CLASS_KIT</td><td>f1</td><td>0.5490196078</td></tr><tr><td>test</td><td>CLASS_KIT_(T6701_mutant)</td><td>roc_auc</td><td>0.7915851272</td></tr><tr><td>test</td><td>CLASS_KIT_(V560G_mutant)</td><td>roc_auc</td><td>0.8211111111</td></tr><tr><td>test</td><td>CLASS_KIT</td><td>roc_auc</td><td>0.8310886644</td></tr><tr><td>test</td><td>CLASS_KIT_(T6701_mutant)</td><td>pr_auc</td><td>0.6788662544</td></tr><tr><td>test</td><td>CLASS_KIT_(V560G_mutant)</td><td>pr_auc</td><td>0.5259101953</td></tr><tr><td>test</td><td>CLASS_KIT</td><td>pr_auc</td><td>0.7451777898</td></tr><tr><td>test</td><td>CLASS_KIT_(T6701_mutant)</td><td>mcc</td><td>0.6754628043</td></tr><tr><td>test</td><td>CLASS_KIT_(V560G_mutant)</td><td>mcc</td><td>0.4494898656</td></tr><tr><td>test</td><td>CLASS_KIT</td><td>mcc</td><td>0.4194400939</td></tr><tr><td>test</td><td>CLASS_KIT_(T6701_mutant)</td><td>cohen_kappa</td><td>0.6266094421</td></tr><tr><td>test</td><td>CLASS_KIT_(V560G_mutant)</td><td>cohen_kappa</td><td>0.4379844961</td></tr><tr><td>test</td><td>CLASS_KIT</td><td>cohen_kappa</td><td>0.3841181902</td></tr></tbody></table></td></tr></table>"
            ],
            "text/plain": [
              "{\n",
              "  \"name\": null,\n",
              "  \"description\": \"\",\n",
              "  \"tags\": [],\n",
              "  \"user_attributes\": {},\n",
              "  \"owner\": null,\n",
              "  \"polaris_version\": \"dev\",\n",
              "  \"benchmark_name\": \"pkis1-kit-wt-mut-c-1\",\n",
              "  \"benchmark_owner\": {\n",
              "    \"slug\": \"polaris\",\n",
              "    \"external_id\": \"org_2gtoaJIVrgRqiIR8Qm5BnpFCbxu\",\n",
              "    \"type\": \"organization\"\n",
              "  },\n",
              "  \"github_url\": null,\n",
              "  \"paper_url\": null,\n",
              "  \"contributors\": null,\n",
              "  \"artifact_id\": null,\n",
              "  \"benchmark_artifact_id\": \"polaris/pkis1-kit-wt-mut-c-1\",\n",
              "  \"results\": [\n",
              "    {\n",
              "      \"Test set\": \"test\",\n",
              "      \"Target label\": \"CLASS_KIT_(T6701_mutant)\",\n",
              "      \"Metric\": \"accuracy\",\n",
              "      \"Score\": 0.9195402299\n",
              "    },\n",
              "    {\n",
              "      \"Test set\": \"test\",\n",
              "      \"Target label\": \"CLASS_KIT_(V560G_mutant)\",\n",
              "      \"Metric\": \"accuracy\",\n",
              "      \"Score\": 0.8850574713\n",
              "    },\n",
              "    {\n",
              "      \"Test set\": \"test\",\n",
              "      \"Target label\": \"CLASS_KIT\",\n",
              "      \"Metric\": \"accuracy\",\n",
              "      \"Score\": 0.7356321839\n",
              "    },\n",
              "    {\n",
              "      \"Test set\": \"test\",\n",
              "      \"Target label\": \"CLASS_KIT_(T6701_mutant)\",\n",
              "      \"Metric\": \"f1\",\n",
              "      \"Score\": 0.6666666667\n",
              "    },\n",
              "    {\n",
              "      \"Test set\": \"test\",\n",
              "      \"Target label\": \"CLASS_KIT_(V560G_mutant)\",\n",
              "      \"Metric\": \"f1\",\n",
              "      \"Score\": 0.5\n",
              "    },\n",
              "    {\n",
              "      \"Test set\": \"test\",\n",
              "      \"Target label\": \"CLASS_KIT\",\n",
              "      \"Metric\": \"f1\",\n",
              "      \"Score\": 0.5490196078\n",
              "    },\n",
              "    {\n",
              "      \"Test set\": \"test\",\n",
              "      \"Target label\": \"CLASS_KIT_(T6701_mutant)\",\n",
              "      \"Metric\": \"roc_auc\",\n",
              "      \"Score\": 0.7915851272\n",
              "    },\n",
              "    {\n",
              "      \"Test set\": \"test\",\n",
              "      \"Target label\": \"CLASS_KIT_(V560G_mutant)\",\n",
              "      \"Metric\": \"roc_auc\",\n",
              "      \"Score\": 0.8211111111\n",
              "    },\n",
              "    {\n",
              "      \"Test set\": \"test\",\n",
              "      \"Target label\": \"CLASS_KIT\",\n",
              "      \"Metric\": \"roc_auc\",\n",
              "      \"Score\": 0.8310886644\n",
              "    },\n",
              "    {\n",
              "      \"Test set\": \"test\",\n",
              "      \"Target label\": \"CLASS_KIT_(T6701_mutant)\",\n",
              "      \"Metric\": \"pr_auc\",\n",
              "      \"Score\": 0.6788662544\n",
              "    },\n",
              "    {\n",
              "      \"Test set\": \"test\",\n",
              "      \"Target label\": \"CLASS_KIT_(V560G_mutant)\",\n",
              "      \"Metric\": \"pr_auc\",\n",
              "      \"Score\": 0.5259101953\n",
              "    },\n",
              "    {\n",
              "      \"Test set\": \"test\",\n",
              "      \"Target label\": \"CLASS_KIT\",\n",
              "      \"Metric\": \"pr_auc\",\n",
              "      \"Score\": 0.7451777898\n",
              "    },\n",
              "    {\n",
              "      \"Test set\": \"test\",\n",
              "      \"Target label\": \"CLASS_KIT_(T6701_mutant)\",\n",
              "      \"Metric\": \"mcc\",\n",
              "      \"Score\": 0.6754628043\n",
              "    },\n",
              "    {\n",
              "      \"Test set\": \"test\",\n",
              "      \"Target label\": \"CLASS_KIT_(V560G_mutant)\",\n",
              "      \"Metric\": \"mcc\",\n",
              "      \"Score\": 0.4494898656\n",
              "    },\n",
              "    {\n",
              "      \"Test set\": \"test\",\n",
              "      \"Target label\": \"CLASS_KIT\",\n",
              "      \"Metric\": \"mcc\",\n",
              "      \"Score\": 0.4194400939\n",
              "    },\n",
              "    {\n",
              "      \"Test set\": \"test\",\n",
              "      \"Target label\": \"CLASS_KIT_(T6701_mutant)\",\n",
              "      \"Metric\": \"cohen_kappa\",\n",
              "      \"Score\": 0.6266094421\n",
              "    },\n",
              "    {\n",
              "      \"Test set\": \"test\",\n",
              "      \"Target label\": \"CLASS_KIT_(V560G_mutant)\",\n",
              "      \"Metric\": \"cohen_kappa\",\n",
              "      \"Score\": 0.4379844961\n",
              "    },\n",
              "    {\n",
              "      \"Test set\": \"test\",\n",
              "      \"Target label\": \"CLASS_KIT\",\n",
              "      \"Metric\": \"cohen_kappa\",\n",
              "      \"Score\": 0.3841181902\n",
              "    }\n",
              "  ]\n",
              "}"
            ]
          },
          "execution_count": 37,
          "metadata": {},
          "output_type": "execute_result"
        }
      ],
      "source": [
        "results = benchmark.evaluate(y_pred=y_pred_mlp, y_prob=y_prob_mlp)\n",
        "results"
      ]
    },
    {
      "cell_type": "markdown",
      "metadata": {},
      "source": [
        "## Upload results"
      ]
    },
    {
      "cell_type": "code",
      "execution_count": null,
      "metadata": {
        "id": "EhSM7C4bONxc"
      },
      "outputs": [],
      "source": [
        "results.name = \"my-second-result\"\n",
        "results.description = \"ECFP fingerprints with a Random Forest\""
      ]
    },
    {
      "cell_type": "code",
      "execution_count": null,
      "metadata": {
        "colab": {
          "base_uri": "https://localhost:8080/"
        },
        "id": "W_WeO8Ay3eYu",
        "outputId": "cdf09690-4f47-4ab4-fc67-882934d037a4"
      },
      "outputs": [],
      "source": [
        "# results.upload_to_hub(owner=owner)"
      ]
    }
  ],
  "metadata": {
    "colab": {
      "provenance": []
    },
    "kernelspec": {
      "display_name": "Python 3",
      "name": "python3"
    },
    "language_info": {
      "codemirror_mode": {
        "name": "ipython",
        "version": 3
      },
      "file_extension": ".py",
      "mimetype": "text/x-python",
      "name": "python",
      "nbconvert_exporter": "python",
      "pygments_lexer": "ipython3",
      "version": "3.11.9"
    }
  },
  "nbformat": 4,
  "nbformat_minor": 0
}
