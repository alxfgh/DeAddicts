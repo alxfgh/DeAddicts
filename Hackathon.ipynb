{
  "cells": [
    {
      "cell_type": "markdown",
      "metadata": {
        "id": "x1iKDNgCwVRW"
      },
      "source": [
        "# ML4DD Summer School Hackathon\n",
        "\n",
        "The final days of the Machine Learning For Drug Discovery summer school ends with a hackathon. We will use Polaris as a tool to get the associated benchmarks and datasets. First things first, we will install Polaris from PyPi."
      ]
    },
    {
      "cell_type": "markdown",
      "metadata": {
        "id": "L_IWEa_YxPrp"
      },
      "source": [
        "We next need to authenticate ourselves to Polaris. If you haven't done so yet, you can create an account at https://polarishub.io. Afterwards, you can simply run the command below."
      ]
    },
    {
      "cell_type": "code",
      "execution_count": null,
      "metadata": {
        "colab": {
          "base_uri": "https://localhost:8080/"
        },
        "id": "_iujt4e23r1M",
        "outputId": "40cae3eb-aee6-4bb3-a2f4-66536de12421"
      },
      "outputs": [
        {
          "name": "stdout",
          "output_type": "stream",
          "text": [
            "You have set \"cwognum\" as the owner\n"
          ]
        }
      ],
      "source": [
        "# @title Set an owner\n",
        "\n",
        "owner = 'cwognum' # @param {type:\"string\"}\n",
        "\n",
        "print(f\"You have set \\\"{owner}\\\" as the owner\")"
      ]
    },
    {
      "cell_type": "markdown",
      "metadata": {
        "id": "MtXQGyH-xdJT"
      },
      "source": [
        "# Solubility Benchmark\n",
        "\n",
        "The first benchmark we will use is `polaris/adme-fang-solu-1`. The associated page for this benchmark on the Polaris Hub can be found at https://polarishub.io/benchmarks/polaris/adme-fang-solu-1."
      ]
    },
    {
      "cell_type": "code",
      "execution_count": null,
      "metadata": {
        "id": "n3MLaBrY5Wn0"
      },
      "outputs": [],
      "source": [
        "import polaris as po\n",
        "import datamol as dm\n",
        "import numpy as np"
      ]
    },
    {
      "cell_type": "code",
      "execution_count": null,
      "metadata": {
        "colab": {
          "base_uri": "https://localhost:8080/"
        },
        "id": "bYVEVfHy7iDt",
        "outputId": "ebe99f9b-e9ce-4979-89bf-b171f0c9a2c0"
      },
      "outputs": [
        {
          "name": "stderr",
          "output_type": "stream",
          "text": [
            "\u001b[32m2024-06-20 12:59:25.575\u001b[0m | \u001b[1mINFO    \u001b[0m | \u001b[36mpolaris._artifact\u001b[0m:\u001b[36m_validate_version\u001b[0m:\u001b[36m66\u001b[0m - \u001b[1mThe version of Polaris that was used to create the artifact (0.0.0) is different from the currently installed version of Polaris (dev).\u001b[0m\n",
            "\u001b[32m2024-06-20 12:59:25.615\u001b[0m | \u001b[1mINFO    \u001b[0m | \u001b[36mpolaris._artifact\u001b[0m:\u001b[36m_validate_version\u001b[0m:\u001b[36m66\u001b[0m - \u001b[1mThe version of Polaris that was used to create the artifact (0.0.0) is different from the currently installed version of Polaris (dev).\u001b[0m\n"
          ]
        }
      ],
      "source": [
        "benchmark = po.load_benchmark(\"polaris/adme-fang-solu-1\")"
      ]
    },
    {
      "cell_type": "markdown",
      "metadata": {
        "id": "zBtE7VPUx-N-"
      },
      "source": [
        "We will use Datamol's `dm.to_fp` to directly featurize the inputs."
      ]
    },
    {
      "cell_type": "code",
      "execution_count": null,
      "metadata": {
        "colab": {
          "base_uri": "https://localhost:8080/"
        },
        "id": "KjZElPwU70q2",
        "outputId": "bbc86c42-f234-403c-aa7a-358c9f7f7b44"
      },
      "outputs": [
        {
          "data": {
            "text/plain": [
              "(array([0, 0, 0, ..., 0, 0, 0], dtype=uint8), 1.567849451)"
            ]
          },
          "execution_count": 6,
          "metadata": {},
          "output_type": "execute_result"
        }
      ],
      "source": [
        "train, test = benchmark.get_train_test_split(featurization_fn=dm.to_fp)\n",
        "train[0]"
      ]
    },
    {
      "cell_type": "markdown",
      "metadata": {
        "id": "PyvHwIjnyG7b"
      },
      "source": [
        "As a model, we will train a simple Random Forest model from scikit-learn."
      ]
    },
    {
      "cell_type": "code",
      "execution_count": null,
      "metadata": {
        "colab": {
          "base_uri": "https://localhost:8080/",
          "height": 75
        },
        "id": "QRwNDY3iHdHy",
        "outputId": "889620b4-52ef-4106-8fac-3cf40a7ef0eb"
      },
      "outputs": [
        {
          "data": {
            "text/html": [
              "<style>#sk-container-id-1 {color: black;background-color: white;}#sk-container-id-1 pre{padding: 0;}#sk-container-id-1 div.sk-toggleable {background-color: white;}#sk-container-id-1 label.sk-toggleable__label {cursor: pointer;display: block;width: 100%;margin-bottom: 0;padding: 0.3em;box-sizing: border-box;text-align: center;}#sk-container-id-1 label.sk-toggleable__label-arrow:before {content: \"▸\";float: left;margin-right: 0.25em;color: #696969;}#sk-container-id-1 label.sk-toggleable__label-arrow:hover:before {color: black;}#sk-container-id-1 div.sk-estimator:hover label.sk-toggleable__label-arrow:before {color: black;}#sk-container-id-1 div.sk-toggleable__content {max-height: 0;max-width: 0;overflow: hidden;text-align: left;background-color: #f0f8ff;}#sk-container-id-1 div.sk-toggleable__content pre {margin: 0.2em;color: black;border-radius: 0.25em;background-color: #f0f8ff;}#sk-container-id-1 input.sk-toggleable__control:checked~div.sk-toggleable__content {max-height: 200px;max-width: 100%;overflow: auto;}#sk-container-id-1 input.sk-toggleable__control:checked~label.sk-toggleable__label-arrow:before {content: \"▾\";}#sk-container-id-1 div.sk-estimator input.sk-toggleable__control:checked~label.sk-toggleable__label {background-color: #d4ebff;}#sk-container-id-1 div.sk-label input.sk-toggleable__control:checked~label.sk-toggleable__label {background-color: #d4ebff;}#sk-container-id-1 input.sk-hidden--visually {border: 0;clip: rect(1px 1px 1px 1px);clip: rect(1px, 1px, 1px, 1px);height: 1px;margin: -1px;overflow: hidden;padding: 0;position: absolute;width: 1px;}#sk-container-id-1 div.sk-estimator {font-family: monospace;background-color: #f0f8ff;border: 1px dotted black;border-radius: 0.25em;box-sizing: border-box;margin-bottom: 0.5em;}#sk-container-id-1 div.sk-estimator:hover {background-color: #d4ebff;}#sk-container-id-1 div.sk-parallel-item::after {content: \"\";width: 100%;border-bottom: 1px solid gray;flex-grow: 1;}#sk-container-id-1 div.sk-label:hover label.sk-toggleable__label {background-color: #d4ebff;}#sk-container-id-1 div.sk-serial::before {content: \"\";position: absolute;border-left: 1px solid gray;box-sizing: border-box;top: 0;bottom: 0;left: 50%;z-index: 0;}#sk-container-id-1 div.sk-serial {display: flex;flex-direction: column;align-items: center;background-color: white;padding-right: 0.2em;padding-left: 0.2em;position: relative;}#sk-container-id-1 div.sk-item {position: relative;z-index: 1;}#sk-container-id-1 div.sk-parallel {display: flex;align-items: stretch;justify-content: center;background-color: white;position: relative;}#sk-container-id-1 div.sk-item::before, #sk-container-id-1 div.sk-parallel-item::before {content: \"\";position: absolute;border-left: 1px solid gray;box-sizing: border-box;top: 0;bottom: 0;left: 50%;z-index: -1;}#sk-container-id-1 div.sk-parallel-item {display: flex;flex-direction: column;z-index: 1;position: relative;background-color: white;}#sk-container-id-1 div.sk-parallel-item:first-child::after {align-self: flex-end;width: 50%;}#sk-container-id-1 div.sk-parallel-item:last-child::after {align-self: flex-start;width: 50%;}#sk-container-id-1 div.sk-parallel-item:only-child::after {width: 0;}#sk-container-id-1 div.sk-dashed-wrapped {border: 1px dashed gray;margin: 0 0.4em 0.5em 0.4em;box-sizing: border-box;padding-bottom: 0.4em;background-color: white;}#sk-container-id-1 div.sk-label label {font-family: monospace;font-weight: bold;display: inline-block;line-height: 1.2em;}#sk-container-id-1 div.sk-label-container {text-align: center;}#sk-container-id-1 div.sk-container {/* jupyter's `normalize.less` sets `[hidden] { display: none; }` but bootstrap.min.css set `[hidden] { display: none !important; }` so we also need the `!important` here to be able to override the default hidden behavior on the sphinx rendered scikit-learn.org. See: https://github.com/scikit-learn/scikit-learn/issues/21755 */display: inline-block !important;position: relative;}#sk-container-id-1 div.sk-text-repr-fallback {display: none;}</style><div id=\"sk-container-id-1\" class=\"sk-top-container\"><div class=\"sk-text-repr-fallback\"><pre>RandomForestRegressor(max_depth=5)</pre><b>In a Jupyter environment, please rerun this cell to show the HTML representation or trust the notebook. <br />On GitHub, the HTML representation is unable to render, please try loading this page with nbviewer.org.</b></div><div class=\"sk-container\" hidden><div class=\"sk-item\"><div class=\"sk-estimator sk-toggleable\"><input class=\"sk-toggleable__control sk-hidden--visually\" id=\"sk-estimator-id-1\" type=\"checkbox\" checked><label for=\"sk-estimator-id-1\" class=\"sk-toggleable__label sk-toggleable__label-arrow\">RandomForestRegressor</label><div class=\"sk-toggleable__content\"><pre>RandomForestRegressor(max_depth=5)</pre></div></div></div></div></div>"
            ],
            "text/plain": [
              "RandomForestRegressor(max_depth=5)"
            ]
          },
          "execution_count": 7,
          "metadata": {},
          "output_type": "execute_result"
        }
      ],
      "source": [
        "from sklearn.ensemble import RandomForestRegressor\n",
        "\n",
        "model = RandomForestRegressor(max_depth=5)\n",
        "model.fit(train.X, train.y)"
      ]
    },
    {
      "cell_type": "markdown",
      "metadata": {
        "id": "xOOf1pjEyTTB"
      },
      "source": [
        "Using that model, we can then generate our predictions for the test set."
      ]
    },
    {
      "cell_type": "code",
      "execution_count": null,
      "metadata": {
        "id": "JQnRAfHfHpaj"
      },
      "outputs": [],
      "source": [
        "y_pred = model.predict(test.X)"
      ]
    },
    {
      "cell_type": "markdown",
      "metadata": {
        "id": "8dU8OdXpyWPO"
      },
      "source": [
        "And finally, we evaluate our predictions"
      ]
    },
    {
      "cell_type": "code",
      "execution_count": null,
      "metadata": {
        "colab": {
          "base_uri": "https://localhost:8080/",
          "height": 555
        },
        "id": "y4lrA1M0H835",
        "outputId": "aac6ccaa-db39-4508-c483-5c657062e1de"
      },
      "outputs": [
        {
          "data": {
            "text/html": [
              "<table border=\"1\"><tr><th>name</th><td>None</td></tr><tr><th>description</th><td></td></tr><tr><th>tags</th><td></td></tr><tr><th>user_attributes</th><td></td></tr><tr><th>owner</th><td>None</td></tr><tr><th>polaris_version</th><td>dev</td></tr><tr><th>benchmark_name</th><td>adme-fang-SOLU-1</td></tr><tr><th>benchmark_owner</th><td><table border=\"1\"><tr><th>slug</th><td>polaris</td></tr><tr><th>external_id</th><td>org_2gtoaJIVrgRqiIR8Qm5BnpFCbxu</td></tr><tr><th>type</th><td>organization</td></tr></table></td></tr><tr><th>github_url</th><td>None</td></tr><tr><th>paper_url</th><td>None</td></tr><tr><th>contributors</th><td>None</td></tr><tr><th>artifact_id</th><td>None</td></tr><tr><th>benchmark_artifact_id</th><td>polaris/adme-fang-solu-1</td></tr><tr><th>results</th><td><table border=\"1\"><thead><tr><th>Test set</th><th>Target label</th><th>Metric</th><th>Score</th></tr></thead><tbody><tr><td>test</td><td>LOG_SOLUBILITY</td><td>mean_absolute_error</td><td>0.4908339378</td></tr><tr><td>test</td><td>LOG_SOLUBILITY</td><td>mean_squared_error</td><td>0.4775989231</td></tr><tr><td>test</td><td>LOG_SOLUBILITY</td><td>r2</td><td>0.1191115108</td></tr><tr><td>test</td><td>LOG_SOLUBILITY</td><td>spearmanr</td><td>0.3761834348</td></tr><tr><td>test</td><td>LOG_SOLUBILITY</td><td>pearsonr</td><td>0.4218383405</td></tr><tr><td>test</td><td>LOG_SOLUBILITY</td><td>explained_var</td><td>0.1253233645</td></tr></tbody></table></td></tr></table>"
            ],
            "text/plain": [
              "{\n",
              "  \"name\": null,\n",
              "  \"description\": \"\",\n",
              "  \"tags\": [],\n",
              "  \"user_attributes\": {},\n",
              "  \"owner\": null,\n",
              "  \"polaris_version\": \"dev\",\n",
              "  \"benchmark_name\": \"adme-fang-SOLU-1\",\n",
              "  \"benchmark_owner\": {\n",
              "    \"slug\": \"polaris\",\n",
              "    \"external_id\": \"org_2gtoaJIVrgRqiIR8Qm5BnpFCbxu\",\n",
              "    \"type\": \"organization\"\n",
              "  },\n",
              "  \"github_url\": null,\n",
              "  \"paper_url\": null,\n",
              "  \"contributors\": null,\n",
              "  \"artifact_id\": null,\n",
              "  \"benchmark_artifact_id\": \"polaris/adme-fang-solu-1\",\n",
              "  \"results\": [\n",
              "    {\n",
              "      \"Test set\": \"test\",\n",
              "      \"Target label\": \"LOG_SOLUBILITY\",\n",
              "      \"Metric\": \"mean_absolute_error\",\n",
              "      \"Score\": 0.4908339378\n",
              "    },\n",
              "    {\n",
              "      \"Test set\": \"test\",\n",
              "      \"Target label\": \"LOG_SOLUBILITY\",\n",
              "      \"Metric\": \"mean_squared_error\",\n",
              "      \"Score\": 0.4775989231\n",
              "    },\n",
              "    {\n",
              "      \"Test set\": \"test\",\n",
              "      \"Target label\": \"LOG_SOLUBILITY\",\n",
              "      \"Metric\": \"r2\",\n",
              "      \"Score\": 0.1191115108\n",
              "    },\n",
              "    {\n",
              "      \"Test set\": \"test\",\n",
              "      \"Target label\": \"LOG_SOLUBILITY\",\n",
              "      \"Metric\": \"spearmanr\",\n",
              "      \"Score\": 0.3761834348\n",
              "    },\n",
              "    {\n",
              "      \"Test set\": \"test\",\n",
              "      \"Target label\": \"LOG_SOLUBILITY\",\n",
              "      \"Metric\": \"pearsonr\",\n",
              "      \"Score\": 0.4218383405\n",
              "    },\n",
              "    {\n",
              "      \"Test set\": \"test\",\n",
              "      \"Target label\": \"LOG_SOLUBILITY\",\n",
              "      \"Metric\": \"explained_var\",\n",
              "      \"Score\": 0.1253233645\n",
              "    }\n",
              "  ]\n",
              "}"
            ]
          },
          "execution_count": 9,
          "metadata": {},
          "output_type": "execute_result"
        }
      ],
      "source": [
        "results = benchmark.evaluate(y_pred)\n",
        "results"
      ]
    },
    {
      "cell_type": "markdown",
      "metadata": {
        "id": "E7uLgMm4yaq7"
      },
      "source": [
        "There are multiple metadata fields we can fill in to provide additional information about these results."
      ]
    },
    {
      "cell_type": "code",
      "execution_count": null,
      "metadata": {
        "id": "Zdt6r0ryH_pR"
      },
      "outputs": [],
      "source": [
        "results.name = \"my-first-result\"\n",
        "results.description = \"ECFP fingerprints with a Random Forest\""
      ]
    },
    {
      "cell_type": "markdown",
      "metadata": {
        "id": "ibiNCczvylVx"
      },
      "source": [
        "And finally - We can upload our results to the Hub! The results will be private."
      ]
    },
    {
      "cell_type": "code",
      "execution_count": null,
      "metadata": {
        "colab": {
          "base_uri": "https://localhost:8080/"
        },
        "id": "2eDOqtS4ILmN",
        "outputId": "b1b5ef4f-5de8-407b-aded-73cec68f0223"
      },
      "outputs": [
        {
          "name": "stderr",
          "output_type": "stream",
          "text": [
            "\u001b[32m2024-06-20 12:59:55.641\u001b[0m | \u001b[32m\u001b[1mSUCCESS \u001b[0m | \u001b[36mpolaris.hub.client\u001b[0m:\u001b[36mupload_results\u001b[0m:\u001b[36m492\u001b[0m - \u001b[32m\u001b[1mYour result has been successfully uploaded to the Hub. View it here: https://polarishub.io/benchmarks/polaris/adme-fang-SOLU-1/SHq3blCYLXwlocar1lRww\u001b[0m\n"
          ]
        }
      ],
      "source": [
        "results.upload_to_hub(owner=owner);"
      ]
    },
    {
      "cell_type": "markdown",
      "metadata": {
        "id": "TO5OAEVFyuqG"
      },
      "source": [
        "# Kinase Selectivity\n",
        "\n",
        "The second benchmark we will use is `polaris/pkis1-kit-wt-mut-c-1`. Using this benchmark is very similar to before, except for one difference: This is a multi-task benchmark."
      ]
    },
    {
      "cell_type": "code",
      "execution_count": null,
      "metadata": {
        "colab": {
          "base_uri": "https://localhost:8080/"
        },
        "id": "46Y3c1JMIPLh",
        "outputId": "f487c4cd-9eac-48cd-96b4-0e284b03d652"
      },
      "outputs": [
        {
          "name": "stderr",
          "output_type": "stream",
          "text": [
            "\u001b[32m2024-06-20 12:59:57.675\u001b[0m | \u001b[1mINFO    \u001b[0m | \u001b[36mpolaris._artifact\u001b[0m:\u001b[36m_validate_version\u001b[0m:\u001b[36m66\u001b[0m - \u001b[1mThe version of Polaris that was used to create the artifact (0.0.0) is different from the currently installed version of Polaris (dev).\u001b[0m\n",
            "\u001b[32m2024-06-20 12:59:57.686\u001b[0m | \u001b[1mINFO    \u001b[0m | \u001b[36mpolaris._artifact\u001b[0m:\u001b[36m_validate_version\u001b[0m:\u001b[36m66\u001b[0m - \u001b[1mThe version of Polaris that was used to create the artifact (0.0.0) is different from the currently installed version of Polaris (dev).\u001b[0m\n"
          ]
        },
        {
          "data": {
            "text/plain": [
              "(array([0, 0, 0, ..., 0, 0, 0], dtype=uint8),\n",
              " {'CLASS_KIT_(T6701_mutant)': 0.0,\n",
              "  'CLASS_KIT_(V560G_mutant)': 0.0,\n",
              "  'CLASS_KIT': 0.0})"
            ]
          },
          "execution_count": 12,
          "metadata": {},
          "output_type": "execute_result"
        }
      ],
      "source": [
        "benchmark = po.load_benchmark(\"polaris/pkis1-kit-wt-mut-c-1\")\n",
        "train, test = benchmark.get_train_test_split(featurization_fn=dm.to_fp)\n",
        "train[0]"
      ]
    },
    {
      "cell_type": "markdown",
      "metadata": {
        "id": "Pca2oqUVzJ6f"
      },
      "source": [
        "As we can see, the targets are now returned to us as a dictionary. Let's train a multi-task model on this data! We first preprocess the data to be in a format we can use with scikit-learn."
      ]
    },
    {
      "cell_type": "code",
      "execution_count": null,
      "metadata": {
        "colab": {
          "base_uri": "https://localhost:8080/"
        },
        "id": "MMVcMtmyzh6g",
        "outputId": "9aa916ab-66e5-4903-81fb-d95c24f057ea"
      },
      "outputs": [
        {
          "data": {
            "text/plain": [
              "(277, 3)"
            ]
          },
          "execution_count": 13,
          "metadata": {},
          "output_type": "execute_result"
        }
      ],
      "source": [
        "ys = train.y\n",
        "ys = np.stack([ys[target] for target in benchmark.target_cols], axis=1)\n",
        "ys.shape"
      ]
    },
    {
      "cell_type": "markdown",
      "metadata": {
        "id": "6hCe_IEr0f1q"
      },
      "source": [
        "Now that we're working with a multi-task dataset, it's also possible for these arrays to be sparse. Let's filter out any data points that doesn't have readouts for _all_ targets."
      ]
    },
    {
      "cell_type": "code",
      "execution_count": null,
      "metadata": {
        "colab": {
          "base_uri": "https://localhost:8080/"
        },
        "id": "Sc6-h6e-0fS0",
        "outputId": "1e8ede36-c85c-48a5-b882-9e4a04c2dc30"
      },
      "outputs": [
        {
          "data": {
            "text/plain": [
              "276"
            ]
          },
          "execution_count": 14,
          "metadata": {},
          "output_type": "execute_result"
        }
      ],
      "source": [
        "mask = ~np.any(np.isnan(ys), axis=1)\n",
        "mask.sum()"
      ]
    },
    {
      "cell_type": "code",
      "execution_count": null,
      "metadata": {
        "colab": {
          "base_uri": "https://localhost:8080/",
          "height": 75
        },
        "id": "X73PDIbo0R_L",
        "outputId": "fb1553cd-0153-4ace-c897-6bfb9fbfb3fd"
      },
      "outputs": [
        {
          "data": {
            "text/html": [
              "<style>#sk-container-id-2 {color: black;background-color: white;}#sk-container-id-2 pre{padding: 0;}#sk-container-id-2 div.sk-toggleable {background-color: white;}#sk-container-id-2 label.sk-toggleable__label {cursor: pointer;display: block;width: 100%;margin-bottom: 0;padding: 0.3em;box-sizing: border-box;text-align: center;}#sk-container-id-2 label.sk-toggleable__label-arrow:before {content: \"▸\";float: left;margin-right: 0.25em;color: #696969;}#sk-container-id-2 label.sk-toggleable__label-arrow:hover:before {color: black;}#sk-container-id-2 div.sk-estimator:hover label.sk-toggleable__label-arrow:before {color: black;}#sk-container-id-2 div.sk-toggleable__content {max-height: 0;max-width: 0;overflow: hidden;text-align: left;background-color: #f0f8ff;}#sk-container-id-2 div.sk-toggleable__content pre {margin: 0.2em;color: black;border-radius: 0.25em;background-color: #f0f8ff;}#sk-container-id-2 input.sk-toggleable__control:checked~div.sk-toggleable__content {max-height: 200px;max-width: 100%;overflow: auto;}#sk-container-id-2 input.sk-toggleable__control:checked~label.sk-toggleable__label-arrow:before {content: \"▾\";}#sk-container-id-2 div.sk-estimator input.sk-toggleable__control:checked~label.sk-toggleable__label {background-color: #d4ebff;}#sk-container-id-2 div.sk-label input.sk-toggleable__control:checked~label.sk-toggleable__label {background-color: #d4ebff;}#sk-container-id-2 input.sk-hidden--visually {border: 0;clip: rect(1px 1px 1px 1px);clip: rect(1px, 1px, 1px, 1px);height: 1px;margin: -1px;overflow: hidden;padding: 0;position: absolute;width: 1px;}#sk-container-id-2 div.sk-estimator {font-family: monospace;background-color: #f0f8ff;border: 1px dotted black;border-radius: 0.25em;box-sizing: border-box;margin-bottom: 0.5em;}#sk-container-id-2 div.sk-estimator:hover {background-color: #d4ebff;}#sk-container-id-2 div.sk-parallel-item::after {content: \"\";width: 100%;border-bottom: 1px solid gray;flex-grow: 1;}#sk-container-id-2 div.sk-label:hover label.sk-toggleable__label {background-color: #d4ebff;}#sk-container-id-2 div.sk-serial::before {content: \"\";position: absolute;border-left: 1px solid gray;box-sizing: border-box;top: 0;bottom: 0;left: 50%;z-index: 0;}#sk-container-id-2 div.sk-serial {display: flex;flex-direction: column;align-items: center;background-color: white;padding-right: 0.2em;padding-left: 0.2em;position: relative;}#sk-container-id-2 div.sk-item {position: relative;z-index: 1;}#sk-container-id-2 div.sk-parallel {display: flex;align-items: stretch;justify-content: center;background-color: white;position: relative;}#sk-container-id-2 div.sk-item::before, #sk-container-id-2 div.sk-parallel-item::before {content: \"\";position: absolute;border-left: 1px solid gray;box-sizing: border-box;top: 0;bottom: 0;left: 50%;z-index: -1;}#sk-container-id-2 div.sk-parallel-item {display: flex;flex-direction: column;z-index: 1;position: relative;background-color: white;}#sk-container-id-2 div.sk-parallel-item:first-child::after {align-self: flex-end;width: 50%;}#sk-container-id-2 div.sk-parallel-item:last-child::after {align-self: flex-start;width: 50%;}#sk-container-id-2 div.sk-parallel-item:only-child::after {width: 0;}#sk-container-id-2 div.sk-dashed-wrapped {border: 1px dashed gray;margin: 0 0.4em 0.5em 0.4em;box-sizing: border-box;padding-bottom: 0.4em;background-color: white;}#sk-container-id-2 div.sk-label label {font-family: monospace;font-weight: bold;display: inline-block;line-height: 1.2em;}#sk-container-id-2 div.sk-label-container {text-align: center;}#sk-container-id-2 div.sk-container {/* jupyter's `normalize.less` sets `[hidden] { display: none; }` but bootstrap.min.css set `[hidden] { display: none !important; }` so we also need the `!important` here to be able to override the default hidden behavior on the sphinx rendered scikit-learn.org. See: https://github.com/scikit-learn/scikit-learn/issues/21755 */display: inline-block !important;position: relative;}#sk-container-id-2 div.sk-text-repr-fallback {display: none;}</style><div id=\"sk-container-id-2\" class=\"sk-top-container\"><div class=\"sk-text-repr-fallback\"><pre>RandomForestClassifier(max_depth=5)</pre><b>In a Jupyter environment, please rerun this cell to show the HTML representation or trust the notebook. <br />On GitHub, the HTML representation is unable to render, please try loading this page with nbviewer.org.</b></div><div class=\"sk-container\" hidden><div class=\"sk-item\"><div class=\"sk-estimator sk-toggleable\"><input class=\"sk-toggleable__control sk-hidden--visually\" id=\"sk-estimator-id-2\" type=\"checkbox\" checked><label for=\"sk-estimator-id-2\" class=\"sk-toggleable__label sk-toggleable__label-arrow\">RandomForestClassifier</label><div class=\"sk-toggleable__content\"><pre>RandomForestClassifier(max_depth=5)</pre></div></div></div></div></div>"
            ],
            "text/plain": [
              "RandomForestClassifier(max_depth=5)"
            ]
          },
          "execution_count": 15,
          "metadata": {},
          "output_type": "execute_result"
        }
      ],
      "source": [
        "from sklearn.ensemble import RandomForestClassifier\n",
        "\n",
        "model = RandomForestClassifier(max_depth=5)\n",
        "model.fit(train.X[mask], ys[mask])"
      ]
    },
    {
      "cell_type": "code",
      "execution_count": null,
      "metadata": {
        "colab": {
          "base_uri": "https://localhost:8080/"
        },
        "id": "YuTepkN51Z30",
        "outputId": "0d93e53d-a633-4832-fb5f-baae74555b0e"
      },
      "outputs": [
        {
          "data": {
            "text/plain": [
              "(87, 3)"
            ]
          },
          "execution_count": 16,
          "metadata": {},
          "output_type": "execute_result"
        }
      ],
      "source": [
        "y_pred = model.predict(test.X)\n",
        "y_pred.shape"
      ]
    },
    {
      "cell_type": "markdown",
      "metadata": {
        "id": "JhYlTqAo2CSv"
      },
      "source": [
        "In addition to `y_pred`, we also need to specify `y_prob` as this benchmark uses the AUROC measure."
      ]
    },
    {
      "cell_type": "code",
      "execution_count": null,
      "metadata": {
        "colab": {
          "base_uri": "https://localhost:8080/"
        },
        "id": "I0PTjCP72CaZ",
        "outputId": "c293a6c2-7555-429b-d57e-e1e5c7f44dee"
      },
      "outputs": [
        {
          "data": {
            "text/plain": [
              "(87, 3, 2)"
            ]
          },
          "execution_count": 17,
          "metadata": {},
          "output_type": "execute_result"
        }
      ],
      "source": [
        "y_prob = model.predict_proba(test.X)\n",
        "y_prob = np.stack(y_prob, axis=1)\n",
        "y_prob.shape"
      ]
    },
    {
      "cell_type": "markdown",
      "metadata": {
        "id": "f0FQjlXQ1e2c"
      },
      "source": [
        "Polaris expects a dictionary, so let's convert our results again."
      ]
    },
    {
      "cell_type": "code",
      "execution_count": null,
      "metadata": {
        "id": "rjjdjgK01eLt"
      },
      "outputs": [],
      "source": [
        "y_pred = {k: y_pred[:, idx] for idx, k in enumerate(benchmark.target_cols)}\n",
        "y_prob = {k: y_prob[:, idx, 1] for idx, k in enumerate(benchmark.target_cols)}"
      ]
    },
    {
      "cell_type": "markdown",
      "metadata": {
        "id": "9-WULonk1wBn"
      },
      "source": [
        "And let's evaluate our predictions!"
      ]
    },
    {
      "cell_type": "code",
      "execution_count": null,
      "metadata": {
        "colab": {
          "base_uri": "https://localhost:8080/",
          "height": 835
        },
        "id": "SUtGjiJj1vvz",
        "outputId": "bd47f5b7-ded4-415a-ca05-4635f563137f"
      },
      "outputs": [
        {
          "data": {
            "text/html": [
              "<table border=\"1\"><tr><th>name</th><td>None</td></tr><tr><th>description</th><td></td></tr><tr><th>tags</th><td></td></tr><tr><th>user_attributes</th><td></td></tr><tr><th>owner</th><td>None</td></tr><tr><th>polaris_version</th><td>dev</td></tr><tr><th>benchmark_name</th><td>pkis1-kit-wt-mut-c-1</td></tr><tr><th>benchmark_owner</th><td><table border=\"1\"><tr><th>slug</th><td>polaris</td></tr><tr><th>external_id</th><td>org_2gtoaJIVrgRqiIR8Qm5BnpFCbxu</td></tr><tr><th>type</th><td>organization</td></tr></table></td></tr><tr><th>github_url</th><td>None</td></tr><tr><th>paper_url</th><td>None</td></tr><tr><th>contributors</th><td>None</td></tr><tr><th>artifact_id</th><td>None</td></tr><tr><th>benchmark_artifact_id</th><td>polaris/pkis1-kit-wt-mut-c-1</td></tr><tr><th>results</th><td><table border=\"1\"><thead><tr><th>Test set</th><th>Target label</th><th>Metric</th><th>Score</th></tr></thead><tbody><tr><td>test</td><td>CLASS_KIT_(T6701_mutant)</td><td>accuracy</td><td>0.8390804598</td></tr><tr><td>test</td><td>CLASS_KIT_(V560G_mutant)</td><td>accuracy</td><td>0.8620689655</td></tr><tr><td>test</td><td>CLASS_KIT</td><td>accuracy</td><td>0.6206896552</td></tr><tr><td>test</td><td>CLASS_KIT_(T6701_mutant)</td><td>f1</td><td>0.0</td></tr><tr><td>test</td><td>CLASS_KIT_(V560G_mutant)</td><td>f1</td><td>0.0</td></tr><tr><td>test</td><td>CLASS_KIT</td><td>f1</td><td>0.0</td></tr><tr><td>test</td><td>CLASS_KIT_(T6701_mutant)</td><td>roc_auc</td><td>0.6320939335</td></tr><tr><td>test</td><td>CLASS_KIT_(V560G_mutant)</td><td>roc_auc</td><td>0.7455555556</td></tr><tr><td>test</td><td>CLASS_KIT</td><td>roc_auc</td><td>0.7508417508</td></tr><tr><td>test</td><td>CLASS_KIT_(T6701_mutant)</td><td>pr_auc</td><td>0.3063512733</td></tr><tr><td>test</td><td>CLASS_KIT_(V560G_mutant)</td><td>pr_auc</td><td>0.349078847</td></tr><tr><td>test</td><td>CLASS_KIT</td><td>pr_auc</td><td>0.6388855219</td></tr><tr><td>test</td><td>CLASS_KIT_(T6701_mutant)</td><td>mcc</td><td>0.0</td></tr><tr><td>test</td><td>CLASS_KIT_(V560G_mutant)</td><td>mcc</td><td>0.0</td></tr><tr><td>test</td><td>CLASS_KIT</td><td>mcc</td><td>0.0</td></tr><tr><td>test</td><td>CLASS_KIT_(T6701_mutant)</td><td>cohen_kappa</td><td>0.0</td></tr><tr><td>test</td><td>CLASS_KIT_(V560G_mutant)</td><td>cohen_kappa</td><td>0.0</td></tr><tr><td>test</td><td>CLASS_KIT</td><td>cohen_kappa</td><td>0.0</td></tr></tbody></table></td></tr></table>"
            ],
            "text/plain": [
              "{\n",
              "  \"name\": null,\n",
              "  \"description\": \"\",\n",
              "  \"tags\": [],\n",
              "  \"user_attributes\": {},\n",
              "  \"owner\": null,\n",
              "  \"polaris_version\": \"dev\",\n",
              "  \"benchmark_name\": \"pkis1-kit-wt-mut-c-1\",\n",
              "  \"benchmark_owner\": {\n",
              "    \"slug\": \"polaris\",\n",
              "    \"external_id\": \"org_2gtoaJIVrgRqiIR8Qm5BnpFCbxu\",\n",
              "    \"type\": \"organization\"\n",
              "  },\n",
              "  \"github_url\": null,\n",
              "  \"paper_url\": null,\n",
              "  \"contributors\": null,\n",
              "  \"artifact_id\": null,\n",
              "  \"benchmark_artifact_id\": \"polaris/pkis1-kit-wt-mut-c-1\",\n",
              "  \"results\": [\n",
              "    {\n",
              "      \"Test set\": \"test\",\n",
              "      \"Target label\": \"CLASS_KIT_(T6701_mutant)\",\n",
              "      \"Metric\": \"accuracy\",\n",
              "      \"Score\": 0.8390804598\n",
              "    },\n",
              "    {\n",
              "      \"Test set\": \"test\",\n",
              "      \"Target label\": \"CLASS_KIT_(V560G_mutant)\",\n",
              "      \"Metric\": \"accuracy\",\n",
              "      \"Score\": 0.8620689655\n",
              "    },\n",
              "    {\n",
              "      \"Test set\": \"test\",\n",
              "      \"Target label\": \"CLASS_KIT\",\n",
              "      \"Metric\": \"accuracy\",\n",
              "      \"Score\": 0.6206896552\n",
              "    },\n",
              "    {\n",
              "      \"Test set\": \"test\",\n",
              "      \"Target label\": \"CLASS_KIT_(T6701_mutant)\",\n",
              "      \"Metric\": \"f1\",\n",
              "      \"Score\": 0.0\n",
              "    },\n",
              "    {\n",
              "      \"Test set\": \"test\",\n",
              "      \"Target label\": \"CLASS_KIT_(V560G_mutant)\",\n",
              "      \"Metric\": \"f1\",\n",
              "      \"Score\": 0.0\n",
              "    },\n",
              "    {\n",
              "      \"Test set\": \"test\",\n",
              "      \"Target label\": \"CLASS_KIT\",\n",
              "      \"Metric\": \"f1\",\n",
              "      \"Score\": 0.0\n",
              "    },\n",
              "    {\n",
              "      \"Test set\": \"test\",\n",
              "      \"Target label\": \"CLASS_KIT_(T6701_mutant)\",\n",
              "      \"Metric\": \"roc_auc\",\n",
              "      \"Score\": 0.6320939335\n",
              "    },\n",
              "    {\n",
              "      \"Test set\": \"test\",\n",
              "      \"Target label\": \"CLASS_KIT_(V560G_mutant)\",\n",
              "      \"Metric\": \"roc_auc\",\n",
              "      \"Score\": 0.7455555556\n",
              "    },\n",
              "    {\n",
              "      \"Test set\": \"test\",\n",
              "      \"Target label\": \"CLASS_KIT\",\n",
              "      \"Metric\": \"roc_auc\",\n",
              "      \"Score\": 0.7508417508\n",
              "    },\n",
              "    {\n",
              "      \"Test set\": \"test\",\n",
              "      \"Target label\": \"CLASS_KIT_(T6701_mutant)\",\n",
              "      \"Metric\": \"pr_auc\",\n",
              "      \"Score\": 0.3063512733\n",
              "    },\n",
              "    {\n",
              "      \"Test set\": \"test\",\n",
              "      \"Target label\": \"CLASS_KIT_(V560G_mutant)\",\n",
              "      \"Metric\": \"pr_auc\",\n",
              "      \"Score\": 0.349078847\n",
              "    },\n",
              "    {\n",
              "      \"Test set\": \"test\",\n",
              "      \"Target label\": \"CLASS_KIT\",\n",
              "      \"Metric\": \"pr_auc\",\n",
              "      \"Score\": 0.6388855219\n",
              "    },\n",
              "    {\n",
              "      \"Test set\": \"test\",\n",
              "      \"Target label\": \"CLASS_KIT_(T6701_mutant)\",\n",
              "      \"Metric\": \"mcc\",\n",
              "      \"Score\": 0.0\n",
              "    },\n",
              "    {\n",
              "      \"Test set\": \"test\",\n",
              "      \"Target label\": \"CLASS_KIT_(V560G_mutant)\",\n",
              "      \"Metric\": \"mcc\",\n",
              "      \"Score\": 0.0\n",
              "    },\n",
              "    {\n",
              "      \"Test set\": \"test\",\n",
              "      \"Target label\": \"CLASS_KIT\",\n",
              "      \"Metric\": \"mcc\",\n",
              "      \"Score\": 0.0\n",
              "    },\n",
              "    {\n",
              "      \"Test set\": \"test\",\n",
              "      \"Target label\": \"CLASS_KIT_(T6701_mutant)\",\n",
              "      \"Metric\": \"cohen_kappa\",\n",
              "      \"Score\": 0.0\n",
              "    },\n",
              "    {\n",
              "      \"Test set\": \"test\",\n",
              "      \"Target label\": \"CLASS_KIT_(V560G_mutant)\",\n",
              "      \"Metric\": \"cohen_kappa\",\n",
              "      \"Score\": 0.0\n",
              "    },\n",
              "    {\n",
              "      \"Test set\": \"test\",\n",
              "      \"Target label\": \"CLASS_KIT\",\n",
              "      \"Metric\": \"cohen_kappa\",\n",
              "      \"Score\": 0.0\n",
              "    }\n",
              "  ]\n",
              "}"
            ]
          },
          "execution_count": 19,
          "metadata": {},
          "output_type": "execute_result"
        }
      ],
      "source": [
        "benchmark.evaluate(y_pred=y_pred, y_prob=y_prob)"
      ]
    },
    {
      "cell_type": "markdown",
      "metadata": {
        "id": "yu-5J7CV2-c8"
      },
      "source": [
        "Although this works, we're not required to train a multi-task model. Polaris doesn't impose any restrictions on the methodology. You could e.g. also train multiple single-task models."
      ]
    },
    {
      "cell_type": "code",
      "execution_count": null,
      "metadata": {
        "id": "4GTqOv1fLlk8"
      },
      "outputs": [],
      "source": [
        "from sklearn.ensemble import RandomForestClassifier\n",
        "\n",
        "models = {target: RandomForestClassifier(max_depth=5) for target in benchmark.target_cols}\n",
        "X = train.X\n",
        "\n",
        "for target, model in models.items():\n",
        "  y = train.y[target]\n",
        "  mask = ~np.isnan(y)\n",
        "  model.fit(X[mask], y[mask])\n",
        "\n",
        "y_prob = {target: model.predict_proba(test.X)[:, 1] for target, model in models.items()}\n",
        "y_pred = {target: model.predict(test.X) for target, model in models.items()}\n",
        "\n",
        "results = benchmark.evaluate(y_pred=y_pred, y_prob=y_prob)"
      ]
    },
    {
      "cell_type": "markdown",
      "metadata": {
        "id": "QXyEVMYx3ayu"
      },
      "source": [
        "Finally, let's upload our results to the Hub again!"
      ]
    },
    {
      "cell_type": "code",
      "execution_count": null,
      "metadata": {
        "id": "EhSM7C4bONxc"
      },
      "outputs": [],
      "source": [
        "results.name = \"my-second-result\"\n",
        "results.description = \"ECFP fingerprints with a Random Forest\""
      ]
    },
    {
      "cell_type": "code",
      "execution_count": null,
      "metadata": {
        "colab": {
          "base_uri": "https://localhost:8080/"
        },
        "id": "W_WeO8Ay3eYu",
        "outputId": "cdf09690-4f47-4ab4-fc67-882934d037a4"
      },
      "outputs": [
        {
          "name": "stderr",
          "output_type": "stream",
          "text": [
            "\u001b[32m2024-06-20 13:00:01.006\u001b[0m | \u001b[32m\u001b[1mSUCCESS \u001b[0m | \u001b[36mpolaris.hub.client\u001b[0m:\u001b[36mupload_results\u001b[0m:\u001b[36m492\u001b[0m - \u001b[32m\u001b[1mYour result has been successfully uploaded to the Hub. View it here: https://polarishub.io/benchmarks/polaris/pkis1-kit-wt-mut-c-1/tWYuqlNYeoXeqKTKNN82D\u001b[0m\n"
          ]
        }
      ],
      "source": [
        "results.upload_to_hub(owner=owner);"
      ]
    },
    {
      "cell_type": "markdown",
      "metadata": {
        "id": "ML2Say8Q5aWn"
      },
      "source": [
        "The End."
      ]
    }
  ],
  "metadata": {
    "colab": {
      "provenance": []
    },
    "kernelspec": {
      "display_name": "Python 3",
      "name": "python3"
    },
    "language_info": {
      "name": "python"
    }
  },
  "nbformat": 4,
  "nbformat_minor": 0
}
