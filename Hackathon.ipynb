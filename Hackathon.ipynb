{
  "cells": [
    {
      "cell_type": "markdown",
      "metadata": {
        "id": "x1iKDNgCwVRW"
      },
      "source": [
        "# ML4DD Summer School Hackathon\n",
        "\n",
        "The final days of the Machine Learning For Drug Discovery summer school ends with a hackathon. We will use Polaris as a tool to get the associated benchmarks and datasets. First things first, we will install Polaris from PyPi."
      ]
    },
    {
      "cell_type": "markdown",
      "metadata": {
        "id": "L_IWEa_YxPrp"
      },
      "source": [
        "We next need to authenticate ourselves to Polaris. If you haven't done so yet, you can create an account at https://polarishub.io. Afterwards, you can simply run the command below."
      ]
    },
    {
      "cell_type": "code",
      "execution_count": null,
      "metadata": {
        "colab": {
          "base_uri": "https://localhost:8080/"
        },
        "id": "_iujt4e23r1M",
        "outputId": "40cae3eb-aee6-4bb3-a2f4-66536de12421"
      },
      "outputs": [],
      "source": [
        "# @title Set an owner\n",
        "\n",
        "owner = 'cwognum' # @param {type:\"string\"}\n",
        "\n",
        "print(f\"You have set \\\"{owner}\\\" as the owner\")"
      ]
    },
    {
      "cell_type": "markdown",
      "metadata": {
        "id": "MtXQGyH-xdJT"
      },
      "source": [
        "# Solubility Benchmark\n",
        "\n",
        "The first benchmark we will use is `polaris/adme-fang-solu-1`. The associated page for this benchmark on the Polaris Hub can be found at https://polarishub.io/benchmarks/polaris/adme-fang-solu-1."
      ]
    },
    {
      "cell_type": "code",
      "execution_count": null,
      "metadata": {
        "id": "n3MLaBrY5Wn0"
      },
      "outputs": [],
      "source": [
        "import polaris as po\n",
        "import datamol as dm\n",
        "import numpy as np"
      ]
    },
    {
      "cell_type": "code",
      "execution_count": null,
      "metadata": {
        "colab": {
          "base_uri": "https://localhost:8080/"
        },
        "id": "bYVEVfHy7iDt",
        "outputId": "ebe99f9b-e9ce-4979-89bf-b171f0c9a2c0"
      },
      "outputs": [],
      "source": [
        "benchmark = po.load_benchmark(\"polaris/adme-fang-solu-1\")"
      ]
    },
    {
      "cell_type": "markdown",
      "metadata": {
        "id": "zBtE7VPUx-N-"
      },
      "source": [
        "We will use Datamol's `dm.to_fp` to directly featurize the inputs."
      ]
    },
    {
      "cell_type": "code",
      "execution_count": null,
      "metadata": {
        "colab": {
          "base_uri": "https://localhost:8080/"
        },
        "id": "KjZElPwU70q2",
        "outputId": "bbc86c42-f234-403c-aa7a-358c9f7f7b44"
      },
      "outputs": [],
      "source": [
        "train, test = benchmark.get_train_test_split(featurization_fn=dm.to_fp)\n",
        "train[0]"
      ]
    },
    {
      "cell_type": "markdown",
      "metadata": {
        "id": "PyvHwIjnyG7b"
      },
      "source": [
        "As a model, we will train a simple Random Forest model from scikit-learn."
      ]
    },
    {
      "cell_type": "code",
      "execution_count": null,
      "metadata": {
        "colab": {
          "base_uri": "https://localhost:8080/",
          "height": 75
        },
        "id": "QRwNDY3iHdHy",
        "outputId": "889620b4-52ef-4106-8fac-3cf40a7ef0eb"
      },
      "outputs": [],
      "source": [
        "from sklearn.ensemble import RandomForestRegressor\n",
        "\n",
        "model = RandomForestRegressor(max_depth=5)\n",
        "model.fit(train.X, train.y)"
      ]
    },
    {
      "cell_type": "markdown",
      "metadata": {
        "id": "xOOf1pjEyTTB"
      },
      "source": [
        "Using that model, we can then generate our predictions for the test set."
      ]
    },
    {
      "cell_type": "code",
      "execution_count": null,
      "metadata": {
        "id": "JQnRAfHfHpaj"
      },
      "outputs": [],
      "source": [
        "y_pred = model.predict(test.X)"
      ]
    },
    {
      "cell_type": "markdown",
      "metadata": {
        "id": "8dU8OdXpyWPO"
      },
      "source": [
        "And finally, we evaluate our predictions"
      ]
    },
    {
      "cell_type": "code",
      "execution_count": null,
      "metadata": {
        "colab": {
          "base_uri": "https://localhost:8080/",
          "height": 555
        },
        "id": "y4lrA1M0H835",
        "outputId": "aac6ccaa-db39-4508-c483-5c657062e1de"
      },
      "outputs": [],
      "source": [
        "results = benchmark.evaluate(y_pred)\n",
        "results"
      ]
    },
    {
      "cell_type": "markdown",
      "metadata": {
        "id": "E7uLgMm4yaq7"
      },
      "source": [
        "There are multiple metadata fields we can fill in to provide additional information about these results."
      ]
    },
    {
      "cell_type": "code",
      "execution_count": null,
      "metadata": {
        "id": "Zdt6r0ryH_pR"
      },
      "outputs": [],
      "source": [
        "results.name = \"my-first-result\"\n",
        "results.description = \"ECFP fingerprints with a Random Forest\""
      ]
    },
    {
      "cell_type": "markdown",
      "metadata": {
        "id": "ibiNCczvylVx"
      },
      "source": [
        "And finally - We can upload our results to the Hub! The results will be private."
      ]
    },
    {
      "cell_type": "code",
      "execution_count": null,
      "metadata": {
        "colab": {
          "base_uri": "https://localhost:8080/"
        },
        "id": "2eDOqtS4ILmN",
        "outputId": "b1b5ef4f-5de8-407b-aded-73cec68f0223"
      },
      "outputs": [],
      "source": [
        "results.upload_to_hub(owner=owner);"
      ]
    },
    {
      "cell_type": "markdown",
      "metadata": {
        "id": "TO5OAEVFyuqG"
      },
      "source": [
        "# Kinase Selectivity\n",
        "\n",
        "The second benchmark we will use is `polaris/pkis1-kit-wt-mut-c-1`. Using this benchmark is very similar to before, except for one difference: This is a multi-task benchmark."
      ]
    },
    {
      "cell_type": "code",
      "execution_count": null,
      "metadata": {
        "colab": {
          "base_uri": "https://localhost:8080/"
        },
        "id": "46Y3c1JMIPLh",
        "outputId": "f487c4cd-9eac-48cd-96b4-0e284b03d652"
      },
      "outputs": [],
      "source": [
        "benchmark = po.load_benchmark(\"polaris/pkis1-kit-wt-mut-c-1\")\n",
        "train, test = benchmark.get_train_test_split(featurization_fn=dm.to_fp)\n",
        "train[0]"
      ]
    },
    {
      "cell_type": "markdown",
      "metadata": {
        "id": "Pca2oqUVzJ6f"
      },
      "source": [
        "As we can see, the targets are now returned to us as a dictionary. Let's train a multi-task model on this data! We first preprocess the data to be in a format we can use with scikit-learn."
      ]
    },
    {
      "cell_type": "code",
      "execution_count": null,
      "metadata": {
        "colab": {
          "base_uri": "https://localhost:8080/"
        },
        "id": "MMVcMtmyzh6g",
        "outputId": "9aa916ab-66e5-4903-81fb-d95c24f057ea"
      },
      "outputs": [],
      "source": [
        "ys = train.y\n",
        "ys = np.stack([ys[target] for target in benchmark.target_cols], axis=1)\n",
        "ys.shape"
      ]
    },
    {
      "cell_type": "markdown",
      "metadata": {
        "id": "6hCe_IEr0f1q"
      },
      "source": [
        "Now that we're working with a multi-task dataset, it's also possible for these arrays to be sparse. Let's filter out any data points that doesn't have readouts for _all_ targets."
      ]
    },
    {
      "cell_type": "code",
      "execution_count": null,
      "metadata": {
        "colab": {
          "base_uri": "https://localhost:8080/"
        },
        "id": "Sc6-h6e-0fS0",
        "outputId": "1e8ede36-c85c-48a5-b882-9e4a04c2dc30"
      },
      "outputs": [],
      "source": [
        "mask = ~np.any(np.isnan(ys), axis=1)\n",
        "mask.sum()"
      ]
    },
    {
      "cell_type": "code",
      "execution_count": null,
      "metadata": {
        "colab": {
          "base_uri": "https://localhost:8080/",
          "height": 75
        },
        "id": "X73PDIbo0R_L",
        "outputId": "fb1553cd-0153-4ace-c897-6bfb9fbfb3fd"
      },
      "outputs": [],
      "source": [
        "from sklearn.ensemble import RandomForestClassifier\n",
        "\n",
        "model = RandomForestClassifier(max_depth=5)\n",
        "model.fit(train.X[mask], ys[mask])"
      ]
    },
    {
      "cell_type": "code",
      "execution_count": null,
      "metadata": {
        "colab": {
          "base_uri": "https://localhost:8080/"
        },
        "id": "YuTepkN51Z30",
        "outputId": "0d93e53d-a633-4832-fb5f-baae74555b0e"
      },
      "outputs": [],
      "source": [
        "y_pred = model.predict(test.X)\n",
        "y_pred.shape"
      ]
    },
    {
      "cell_type": "markdown",
      "metadata": {
        "id": "JhYlTqAo2CSv"
      },
      "source": [
        "In addition to `y_pred`, we also need to specify `y_prob` as this benchmark uses the AUROC measure."
      ]
    },
    {
      "cell_type": "code",
      "execution_count": null,
      "metadata": {
        "colab": {
          "base_uri": "https://localhost:8080/"
        },
        "id": "I0PTjCP72CaZ",
        "outputId": "c293a6c2-7555-429b-d57e-e1e5c7f44dee"
      },
      "outputs": [],
      "source": [
        "y_prob = model.predict_proba(test.X)\n",
        "y_prob = np.stack(y_prob, axis=1)\n",
        "y_prob.shape"
      ]
    },
    {
      "cell_type": "markdown",
      "metadata": {
        "id": "f0FQjlXQ1e2c"
      },
      "source": [
        "Polaris expects a dictionary, so let's convert our results again."
      ]
    },
    {
      "cell_type": "code",
      "execution_count": null,
      "metadata": {
        "id": "rjjdjgK01eLt"
      },
      "outputs": [],
      "source": [
        "y_pred = {k: y_pred[:, idx] for idx, k in enumerate(benchmark.target_cols)}\n",
        "y_prob = {k: y_prob[:, idx, 1] for idx, k in enumerate(benchmark.target_cols)}"
      ]
    },
    {
      "cell_type": "markdown",
      "metadata": {
        "id": "9-WULonk1wBn"
      },
      "source": [
        "And let's evaluate our predictions!"
      ]
    },
    {
      "cell_type": "code",
      "execution_count": null,
      "metadata": {
        "colab": {
          "base_uri": "https://localhost:8080/",
          "height": 835
        },
        "id": "SUtGjiJj1vvz",
        "outputId": "bd47f5b7-ded4-415a-ca05-4635f563137f"
      },
      "outputs": [],
      "source": [
        "benchmark.evaluate(y_pred=y_pred, y_prob=y_prob)"
      ]
    },
    {
      "cell_type": "markdown",
      "metadata": {
        "id": "yu-5J7CV2-c8"
      },
      "source": [
        "Although this works, we're not required to train a multi-task model. Polaris doesn't impose any restrictions on the methodology. You could e.g. also train multiple single-task models."
      ]
    },
    {
      "cell_type": "code",
      "execution_count": null,
      "metadata": {
        "id": "4GTqOv1fLlk8"
      },
      "outputs": [],
      "source": [
        "from sklearn.ensemble import RandomForestClassifier\n",
        "\n",
        "models = {target: RandomForestClassifier(max_depth=5) for target in benchmark.target_cols}\n",
        "X = train.X\n",
        "\n",
        "for target, model in models.items():\n",
        "  y = train.y[target]\n",
        "  mask = ~np.isnan(y)\n",
        "  model.fit(X[mask], y[mask])\n",
        "\n",
        "y_prob = {target: model.predict_proba(test.X)[:, 1] for target, model in models.items()}\n",
        "y_pred = {target: model.predict(test.X) for target, model in models.items()}\n",
        "\n",
        "results = benchmark.evaluate(y_pred=y_pred, y_prob=y_prob)"
      ]
    },
    {
      "cell_type": "markdown",
      "metadata": {
        "id": "QXyEVMYx3ayu"
      },
      "source": [
        "Finally, let's upload our results to the Hub again!"
      ]
    },
    {
      "cell_type": "code",
      "execution_count": null,
      "metadata": {
        "id": "EhSM7C4bONxc"
      },
      "outputs": [],
      "source": [
        "results.name = \"my-second-result\"\n",
        "results.description = \"ECFP fingerprints with a Random Forest\""
      ]
    },
    {
      "cell_type": "code",
      "execution_count": null,
      "metadata": {
        "colab": {
          "base_uri": "https://localhost:8080/"
        },
        "id": "W_WeO8Ay3eYu",
        "outputId": "cdf09690-4f47-4ab4-fc67-882934d037a4"
      },
      "outputs": [],
      "source": [
        "results.upload_to_hub(owner=owner);"
      ]
    },
    {
      "cell_type": "markdown",
      "metadata": {
        "id": "ML2Say8Q5aWn"
      },
      "source": [
        "The End."
      ]
    }
  ],
  "metadata": {
    "colab": {
      "provenance": []
    },
    "kernelspec": {
      "display_name": "Python 3",
      "name": "python3"
    },
    "language_info": {
      "codemirror_mode": {
        "name": "ipython",
        "version": 3
      },
      "file_extension": ".py",
      "mimetype": "text/x-python",
      "name": "python",
      "nbconvert_exporter": "python",
      "pygments_lexer": "ipython3",
      "version": "3.10.14"
    }
  },
  "nbformat": 4,
  "nbformat_minor": 0
}
